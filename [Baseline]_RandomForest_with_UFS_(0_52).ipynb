{
  "cells": [
    {
      "cell_type": "markdown",
      "metadata": {
        "id": "view-in-github",
        "colab_type": "text"
      },
      "source": [
        "<a href=\"https://colab.research.google.com/github/h-wi/lg-aimers-hackathon/blob/main/%5BBaseline%5D_RandomForest_with_UFS_(0_52).ipynb\" target=\"_parent\"><img src=\"https://colab.research.google.com/assets/colab-badge.svg\" alt=\"Open In Colab\"/></a>"
      ]
    },
    {
      "cell_type": "markdown",
      "id": "273b75f6-25fa-4f9c-8c9d-fa33a985f2dd",
      "metadata": {
        "id": "273b75f6-25fa-4f9c-8c9d-fa33a985f2dd"
      },
      "source": [
        "## Import"
      ]
    },
    {
      "cell_type": "code",
      "execution_count": 2,
      "id": "5c415d9d-1111-46ed-bc2d-849c75ab962a",
      "metadata": {
        "id": "5c415d9d-1111-46ed-bc2d-849c75ab962a"
      },
      "outputs": [],
      "source": [
        "import pandas as pd\n",
        "import random\n",
        "import os\n",
        "import numpy as np\n",
        "\n",
        "from sklearn.preprocessing import LabelEncoder\n",
        "from sklearn.ensemble import RandomForestClassifier"
      ]
    },
    {
      "cell_type": "code",
      "execution_count": 3,
      "id": "edae871a-b31b-4f06-bb88-0fd1f6660b13",
      "metadata": {
        "id": "edae871a-b31b-4f06-bb88-0fd1f6660b13"
      },
      "outputs": [],
      "source": [
        "def seed_everything(seed):\n",
        "    random.seed(seed)\n",
        "    os.environ['PYTHONHASHSEED'] = str(seed)\n",
        "    np.random.seed(seed)\n",
        "seed_everything(37) # Seed 고정"
      ]
    },
    {
      "cell_type": "code",
      "source": [
        "from google.colab import drive\n",
        "drive.mount('/content/drive')"
      ],
      "metadata": {
        "colab": {
          "base_uri": "https://localhost:8080/"
        },
        "id": "vePq4yta96aA",
        "outputId": "b257f286-7483-4fd5-ed4c-2958c66f9fc2"
      },
      "id": "vePq4yta96aA",
      "execution_count": 4,
      "outputs": [
        {
          "output_type": "stream",
          "name": "stdout",
          "text": [
            "Mounted at /content/drive\n"
          ]
        }
      ]
    },
    {
      "cell_type": "markdown",
      "id": "119f9c1c-39bc-42e7-a00d-3062d11b4f1e",
      "metadata": {
        "id": "119f9c1c-39bc-42e7-a00d-3062d11b4f1e"
      },
      "source": [
        "## Data Load"
      ]
    },
    {
      "cell_type": "markdown",
      "source": [
        "A. Y_Quality 무시하고 그냥 Y_Class 예측 모형 만들기\n",
        "\n",
        "**B. Y_Quality를 예측하고 Spec 범위를 활용해서 Y_Class를 생성하기**\n",
        "\n",
        "C. A.와 B.를 모두 활용하기\n",
        "\n"
      ],
      "metadata": {
        "id": "6kXCCnjyBXDK"
      },
      "id": "6kXCCnjyBXDK"
    },
    {
      "cell_type": "code",
      "source": [
        "cd /content/drive/MyDrive/aimers"
      ],
      "metadata": {
        "colab": {
          "base_uri": "https://localhost:8080/"
        },
        "id": "twAoejdz_OMR",
        "outputId": "8e1ed10c-2840-4684-fe20-b9f246b363e1"
      },
      "id": "twAoejdz_OMR",
      "execution_count": 5,
      "outputs": [
        {
          "output_type": "stream",
          "name": "stdout",
          "text": [
            "/content/drive/MyDrive/aimers\n"
          ]
        }
      ]
    },
    {
      "cell_type": "code",
      "execution_count": 6,
      "id": "ee76c413-001b-475e-9d1c-6662d25d2db2",
      "metadata": {
        "id": "ee76c413-001b-475e-9d1c-6662d25d2db2"
      },
      "outputs": [],
      "source": [
        "train_df = pd.read_csv('./train.csv')\n",
        "test_df = pd.read_csv('./test.csv')"
      ]
    },
    {
      "cell_type": "code",
      "source": [
        "train_df['LINE'].unique()"
      ],
      "metadata": {
        "colab": {
          "base_uri": "https://localhost:8080/"
        },
        "id": "kYeRLfsYRpUT",
        "outputId": "d084001b-929a-424f-f2c7-cf35360aa70d"
      },
      "id": "kYeRLfsYRpUT",
      "execution_count": 7,
      "outputs": [
        {
          "output_type": "execute_result",
          "data": {
            "text/plain": [
              "array(['T050304', 'T050307', 'T100304', 'T100306', 'T010306', 'T010305'],\n",
              "      dtype=object)"
            ]
          },
          "metadata": {},
          "execution_count": 7
        }
      ]
    },
    {
      "cell_type": "code",
      "source": [
        "test_df['LINE'].unique()"
      ],
      "metadata": {
        "colab": {
          "base_uri": "https://localhost:8080/"
        },
        "id": "pZzxrzM0x7O4",
        "outputId": "6e31469c-1177-47fe-a549-5031b353901c"
      },
      "id": "pZzxrzM0x7O4",
      "execution_count": 8,
      "outputs": [
        {
          "output_type": "execute_result",
          "data": {
            "text/plain": [
              "array(['T100306', 'T100304', 'T010305', 'T010306', 'T050304', 'T050307'],\n",
              "      dtype=object)"
            ]
          },
          "metadata": {},
          "execution_count": 8
        }
      ]
    },
    {
      "cell_type": "code",
      "source": [
        "# 생산 LINE별로 쓰이는 변수가 다르므로 생산 LINE별로 DF 구분\n",
        "\n",
        "train_grouped = train_df.groupby('LINE')\n",
        "test_grouped = test_df.groupby('LINE')\n",
        "\n",
        "for name, group in train_grouped:\n",
        "    if name == 'T050304':\n",
        "        t04_df = group.copy()\n",
        "    elif name == 'T050307':\n",
        "        t07_df = group.copy()\n",
        "    elif name == 'T100304':\n",
        "        t14_df = group.copy()\n",
        "    elif name == 'T100306':\n",
        "        t16_df = group.copy()\n",
        "    elif name == 'T010306':\n",
        "        t06_df = group.copy()  \n",
        "    elif name == 'T010305':\n",
        "        t05_df = group.copy()\n",
        "\n",
        "for name, group in test_grouped:\n",
        "    if name == 'T050304':\n",
        "        test04_df = group.copy()\n",
        "    elif name == 'T050307':\n",
        "        test07_df = group.copy()\n",
        "    elif name == 'T100304':\n",
        "        test14_df = group.copy()\n",
        "    elif name == 'T100306':\n",
        "        test16_df = group.copy()\n",
        "    elif name == 'T010306':\n",
        "        test06_df = group.copy()  \n",
        "    elif name == 'T010305':\n",
        "        test05_df = group.copy()"
      ],
      "metadata": {
        "id": "9_Ab5l5oMlTz"
      },
      "id": "9_Ab5l5oMlTz",
      "execution_count": 9,
      "outputs": []
    },
    {
      "cell_type": "code",
      "source": [
        "# 각 df에서 값을 갖고 있지 않은 열(결측치만 갖고 있는 열) 모두 삭제\n",
        "# df마다 적합할 모델 만들고 test df도 해당 모델에만 예측가능\n",
        "\n",
        "t04_df = t04_df.dropna(axis=1, how='all')\n",
        "t07_df = t07_df.dropna(axis=1, how='all')\n",
        "t14_df = t14_df.dropna(axis=1, how='all')\n",
        "t16_df = t16_df.dropna(axis=1, how='all')\n",
        "t06_df = t06_df.dropna(axis=1, how='all')\n",
        "t05_df = t05_df.dropna(axis=1, how='all')\n",
        "\n",
        "test04_df = test04_df.dropna(axis=1, how='all')\n",
        "test07_df = test07_df.dropna(axis=1, how='all')\n",
        "test14_df = test14_df.dropna(axis=1, how='all')\n",
        "test16_df = test16_df.dropna(axis=1, how='all')\n",
        "test06_df = test06_df.dropna(axis=1, how='all')\n",
        "test05_df = test05_df.dropna(axis=1, how='all')"
      ],
      "metadata": {
        "id": "MQgOwri5UYfx"
      },
      "id": "MQgOwri5UYfx",
      "execution_count": 10,
      "outputs": []
    },
    {
      "cell_type": "code",
      "source": [
        "# 각 LINE별로 잘 모였는지 확인, LINE별 생산하는 제품의 CODE 확인.\n",
        "\n",
        "print(t04_df['LINE'].unique(),t04_df['PRODUCT_CODE'].unique())\n",
        "print(t07_df['LINE'].unique(),t07_df['PRODUCT_CODE'].unique())\n",
        "print(t14_df['LINE'].unique(),t14_df['PRODUCT_CODE'].unique())\n",
        "print(t16_df['LINE'].unique(),t16_df['PRODUCT_CODE'].unique())\n",
        "print(t06_df['LINE'].unique(),t06_df['PRODUCT_CODE'].unique())\n",
        "print(t05_df['LINE'].unique(),t05_df['PRODUCT_CODE'].unique())\n",
        "\n",
        "print('########################################')\n",
        "\n",
        "print(test04_df['LINE'].unique(),test04_df['PRODUCT_CODE'].unique())\n",
        "print(test07_df['LINE'].unique(),test07_df['PRODUCT_CODE'].unique())\n",
        "print(test14_df['LINE'].unique(),test14_df['PRODUCT_CODE'].unique())\n",
        "print(test16_df['LINE'].unique(),test16_df['PRODUCT_CODE'].unique())\n",
        "print(test06_df['LINE'].unique(),test06_df['PRODUCT_CODE'].unique())\n",
        "print(test05_df['LINE'].unique(),test05_df['PRODUCT_CODE'].unique())"
      ],
      "metadata": {
        "colab": {
          "base_uri": "https://localhost:8080/"
        },
        "id": "fe56FxswQfpD",
        "outputId": "ea1761ba-be61-4ff3-c009-ce4b740c5b08"
      },
      "id": "fe56FxswQfpD",
      "execution_count": 11,
      "outputs": [
        {
          "output_type": "stream",
          "name": "stdout",
          "text": [
            "['T050304'] ['A_31']\n",
            "['T050307'] ['A_31']\n",
            "['T100304'] ['T_31' 'O_31']\n",
            "['T100306'] ['T_31' 'O_31']\n",
            "['T010306'] ['A_31']\n",
            "['T010305'] ['A_31']\n",
            "########################################\n",
            "['T050304'] ['A_31']\n",
            "['T050307'] ['A_31']\n",
            "['T100304'] ['T_31' 'O_31']\n",
            "['T100306'] ['T_31' 'O_31']\n",
            "['T010306'] ['A_31']\n",
            "['T010305'] ['A_31']\n"
          ]
        }
      ]
    },
    {
      "cell_type": "markdown",
      "id": "885f1e6b-97f4-4f90-b3ce-0513b7196db6",
      "metadata": {
        "id": "885f1e6b-97f4-4f90-b3ce-0513b7196db6"
      },
      "source": [
        "## Data Pre-processing"
      ]
    },
    {
      "cell_type": "code",
      "source": [
        "# pandas 전체 행 출력 개수 제한\n",
        "pd.options.display.max_rows = 5000"
      ],
      "metadata": {
        "id": "Cju5uYfiJWDg"
      },
      "id": "Cju5uYfiJWDg",
      "execution_count": 12,
      "outputs": []
    },
    {
      "cell_type": "markdown",
      "source": [
        "A. 각 LINE, PRODUCT_CODE별로 데이터를 분할하고 따로 모형 적합하기\n",
        "\n",
        "**필요한 변수만 활용하기 때문에 메모리/연산 효율적\n",
        "각 LINE, PRODUCT_CODE별 모형 최적화 가능**"
      ],
      "metadata": {
        "id": "Vzalno6WBPOR"
      },
      "id": "Vzalno6WBPOR"
    },
    {
      "cell_type": "markdown",
      "source": [
        "### 1. Line **T050304(t04)** data preprocessing\n"
      ],
      "metadata": {
        "id": "qOMHJMuE1smv"
      },
      "id": "qOMHJMuE1smv"
    },
    {
      "cell_type": "markdown",
      "source": [
        "#### Divide dataframe and Fill in missing values\n",
        "\n",
        "Use it https://m.blog.naver.com/tjdrud1323/221720259834"
      ],
      "metadata": {
        "id": "AkaOETy9RBPJ"
      },
      "id": "AkaOETy9RBPJ"
    },
    {
      "cell_type": "code",
      "execution_count": 13,
      "id": "ffc6afcd-a059-4c16-81a5-ab3d4d750a41",
      "metadata": {
        "id": "ffc6afcd-a059-4c16-81a5-ab3d4d750a41"
      },
      "outputs": [],
      "source": [
        "train_x = t04_df.drop(columns=['PRODUCT_ID', 'TIMESTAMP', 'Y_Class', 'Y_Quality'])\n",
        "t04_train_y = t04_df['Y_Class']\n",
        "\n",
        "t04_test_x = test04_df.drop(columns=['PRODUCT_ID', 'TIMESTAMP'])"
      ]
    },
    {
      "cell_type": "code",
      "execution_count": 14,
      "id": "f710209f-754a-456b-97a5-f7fb4f7e0f51",
      "metadata": {
        "colab": {
          "base_uri": "https://localhost:8080/"
        },
        "id": "f710209f-754a-456b-97a5-f7fb4f7e0f51",
        "outputId": "a73b3499-a47b-48f2-8e34-e0c28da66b54"
      },
      "outputs": [
        {
          "output_type": "stream",
          "name": "stdout",
          "text": [
            "Done.\n"
          ]
        }
      ],
      "source": [
        "# qualitative to quantitative\n",
        "# 각 생산라인과 상품코드를 integer encoding\n",
        "\n",
        "qual_col = ['LINE', 'PRODUCT_CODE']\n",
        "\n",
        "for i in qual_col:\n",
        "    le = LabelEncoder()\n",
        "    le = le.fit(train_x[i])\n",
        "    train_x[i] = le.transform(train_x[i])\n",
        "    \n",
        "    for label in np.unique(t04_test_x[i]): \n",
        "        if label not in le.classes_: \n",
        "            le.classes_ = np.append(le.classes_, label)\n",
        "    t04_test_x[i] = le.transform(t04_test_x[i]) \n",
        "print('Done.')"
      ]
    },
    {
      "cell_type": "code",
      "execution_count": 15,
      "id": "8ad73f05-9bc3-4063-af29-25dc31f9e3d0",
      "metadata": {
        "id": "8ad73f05-9bc3-4063-af29-25dc31f9e3d0",
        "colab": {
          "base_uri": "https://localhost:8080/"
        },
        "outputId": "f4262f92-9511-49ee-fde4-caed5d2a3f4a"
      },
      "outputs": [
        {
          "output_type": "execute_result",
          "data": {
            "text/plain": [
              "LINE             0\n",
              "PRODUCT_CODE     0\n",
              "X_128            0\n",
              "X_129            0\n",
              "X_132            0\n",
              "X_133            0\n",
              "X_134            0\n",
              "X_135            0\n",
              "X_136            0\n",
              "X_137            0\n",
              "X_138            0\n",
              "X_139            0\n",
              "X_140            0\n",
              "X_141            0\n",
              "X_142            0\n",
              "X_143            0\n",
              "X_144            0\n",
              "X_145            0\n",
              "X_146            0\n",
              "X_147            0\n",
              "X_148            0\n",
              "X_149            0\n",
              "X_150            0\n",
              "X_151            0\n",
              "X_152            0\n",
              "X_153            0\n",
              "X_154            0\n",
              "X_155            0\n",
              "X_156            0\n",
              "X_157            0\n",
              "X_158            0\n",
              "X_159            0\n",
              "X_160            0\n",
              "X_161            0\n",
              "X_162            0\n",
              "X_163            0\n",
              "X_164            0\n",
              "X_165            0\n",
              "X_166            0\n",
              "X_167            0\n",
              "X_168            0\n",
              "X_169            0\n",
              "X_170            0\n",
              "X_171            0\n",
              "X_172            0\n",
              "X_173            0\n",
              "X_174            0\n",
              "X_175            0\n",
              "X_176            0\n",
              "X_177            0\n",
              "X_178            0\n",
              "X_179            0\n",
              "X_180            0\n",
              "X_181            0\n",
              "X_182            0\n",
              "X_183            0\n",
              "X_184            0\n",
              "X_185            0\n",
              "X_186            0\n",
              "X_187            0\n",
              "X_188            0\n",
              "X_189            0\n",
              "X_190            0\n",
              "X_191            0\n",
              "X_192            0\n",
              "X_193            0\n",
              "X_194            0\n",
              "X_195            0\n",
              "X_196            0\n",
              "X_197            0\n",
              "X_198            0\n",
              "X_199            0\n",
              "X_200            0\n",
              "X_201            0\n",
              "X_202            0\n",
              "X_203            0\n",
              "X_204            0\n",
              "X_205            0\n",
              "X_206            0\n",
              "X_207            0\n",
              "X_208            0\n",
              "X_209            0\n",
              "X_210            0\n",
              "X_211            0\n",
              "X_212            0\n",
              "X_213            0\n",
              "X_214            0\n",
              "X_215            0\n",
              "X_216            0\n",
              "X_217            0\n",
              "X_218            0\n",
              "X_219            0\n",
              "X_220            0\n",
              "X_221            0\n",
              "X_222            0\n",
              "X_223            0\n",
              "X_224            0\n",
              "X_225            0\n",
              "X_226            0\n",
              "X_227            0\n",
              "X_228            0\n",
              "X_229            0\n",
              "X_230            0\n",
              "X_231            0\n",
              "X_232            0\n",
              "X_233            0\n",
              "X_234            0\n",
              "X_235            0\n",
              "X_236            0\n",
              "X_237            0\n",
              "X_238            0\n",
              "X_239            0\n",
              "X_240            0\n",
              "X_241            0\n",
              "X_242            0\n",
              "X_243            0\n",
              "X_244            0\n",
              "X_245            0\n",
              "X_284            0\n",
              "X_375            0\n",
              "X_376            0\n",
              "X_377            0\n",
              "X_378            0\n",
              "X_379            0\n",
              "X_380            0\n",
              "X_381            0\n",
              "X_382            0\n",
              "X_938            2\n",
              "X_939            2\n",
              "X_940            2\n",
              "X_941            2\n",
              "X_942            2\n",
              "X_943            2\n",
              "X_944            2\n",
              "X_945            2\n",
              "X_946            2\n",
              "X_947            2\n",
              "X_948            2\n",
              "X_949            2\n",
              "X_950            2\n",
              "X_951            2\n",
              "X_952            2\n",
              "X_953            1\n",
              "X_954            1\n",
              "X_955            0\n",
              "X_956            0\n",
              "X_957            2\n",
              "X_958            2\n",
              "X_959            2\n",
              "X_960            1\n",
              "X_961            1\n",
              "X_962            1\n",
              "X_963            1\n",
              "X_964            1\n",
              "X_965            1\n",
              "X_966            2\n",
              "X_967            2\n",
              "X_968            2\n",
              "X_969            2\n",
              "X_970            2\n",
              "X_971            2\n",
              "X_972            2\n",
              "X_973            2\n",
              "X_974            2\n",
              "X_975            2\n",
              "X_976            2\n",
              "X_977            2\n",
              "X_978            2\n",
              "X_979            2\n",
              "X_980            2\n",
              "X_981            2\n",
              "X_982            2\n",
              "X_983            2\n",
              "X_984            2\n",
              "X_985            2\n",
              "X_986            2\n",
              "X_987            2\n",
              "X_988            2\n",
              "X_989            2\n",
              "X_990            7\n",
              "X_991            7\n",
              "X_992            2\n",
              "X_993            2\n",
              "X_994            2\n",
              "X_995            2\n",
              "X_996            2\n",
              "X_997            2\n",
              "X_998            2\n",
              "X_999            2\n",
              "X_1000           2\n",
              "X_1001           2\n",
              "X_1002           0\n",
              "X_1003           0\n",
              "X_1004           0\n",
              "X_1005           0\n",
              "X_1006           2\n",
              "X_1007           2\n",
              "X_1008           2\n",
              "X_1009           2\n",
              "X_1010           2\n",
              "X_1011           2\n",
              "X_1012           2\n",
              "X_1013           2\n",
              "X_1014           2\n",
              "X_1015           2\n",
              "X_1016           2\n",
              "X_1017           2\n",
              "X_1018           2\n",
              "X_1019           2\n",
              "X_1020           2\n",
              "X_1021           2\n",
              "X_1022           2\n",
              "X_1023           2\n",
              "X_1024           2\n",
              "X_1025           2\n",
              "X_1026           1\n",
              "X_1027           1\n",
              "X_1028           1\n",
              "X_1029           1\n",
              "X_1030           1\n",
              "X_1031           1\n",
              "X_1032           1\n",
              "X_1033           1\n",
              "X_1034           1\n",
              "X_1035           1\n",
              "X_1036           1\n",
              "X_1037           1\n",
              "X_1038           1\n",
              "X_1039           1\n",
              "X_1040           1\n",
              "X_1041           1\n",
              "X_1042           1\n",
              "X_1043           1\n",
              "X_1044           1\n",
              "X_1045           1\n",
              "X_1046           1\n",
              "X_1047           1\n",
              "X_1048           1\n",
              "X_1049           1\n",
              "X_1050           1\n",
              "X_1051           1\n",
              "X_1052           1\n",
              "X_1053           1\n",
              "X_1054           1\n",
              "X_1055           1\n",
              "X_1056           1\n",
              "X_1057           1\n",
              "X_1058           1\n",
              "X_1059           1\n",
              "X_1060           1\n",
              "X_1061           1\n",
              "X_1062           1\n",
              "X_1063           1\n",
              "X_1064           1\n",
              "X_1065           1\n",
              "X_1066           1\n",
              "X_1067           1\n",
              "X_1068           1\n",
              "X_1069           1\n",
              "X_1070           1\n",
              "X_1071           1\n",
              "X_1072           1\n",
              "X_1073           1\n",
              "X_1074           1\n",
              "X_1075           1\n",
              "X_1076           1\n",
              "X_1077           0\n",
              "X_1078           0\n",
              "X_1079           0\n",
              "X_1080           0\n",
              "X_1081           0\n",
              "X_1082           0\n",
              "X_1083           0\n",
              "X_1084           0\n",
              "X_1085           0\n",
              "X_1086           0\n",
              "X_1087           0\n",
              "X_1088           0\n",
              "X_1089           0\n",
              "X_1090           0\n",
              "X_1091           0\n",
              "X_1092           0\n",
              "X_1093           0\n",
              "X_1094           0\n",
              "X_1095           0\n",
              "X_1096           0\n",
              "X_1097           0\n",
              "X_1098           0\n",
              "X_1099           0\n",
              "X_1100           0\n",
              "X_1101           0\n",
              "X_1102           0\n",
              "X_1103           0\n",
              "X_1104           0\n",
              "X_1105           0\n",
              "X_1106           0\n",
              "X_1107           0\n",
              "X_1108           0\n",
              "X_1109           0\n",
              "X_1110           0\n",
              "X_1111           0\n",
              "X_1112           0\n",
              "X_1113           0\n",
              "X_1114           0\n",
              "X_1115           0\n",
              "X_1116           0\n",
              "X_1117           0\n",
              "X_1118           0\n",
              "X_1119           0\n",
              "X_1120           0\n",
              "X_1121           0\n",
              "X_1122           0\n",
              "X_1123           0\n",
              "X_1124           0\n",
              "X_1125           0\n",
              "X_1126           0\n",
              "X_1127           0\n",
              "X_1128           0\n",
              "X_1129           0\n",
              "X_1130           0\n",
              "X_1131           0\n",
              "X_1132           0\n",
              "X_1133           0\n",
              "X_1134           0\n",
              "X_1135           0\n",
              "X_1136           0\n",
              "X_1137           0\n",
              "X_1138           0\n",
              "X_1139           0\n",
              "X_1140           0\n",
              "X_1141           0\n",
              "X_1142           0\n",
              "X_1143           0\n",
              "X_1144           0\n",
              "X_1145           0\n",
              "X_1146           0\n",
              "X_1147           0\n",
              "X_1148           0\n",
              "X_1149           0\n",
              "X_1150           0\n",
              "X_1151           0\n",
              "X_1152           0\n",
              "X_1153           0\n",
              "X_1154           0\n",
              "X_1155           0\n",
              "X_1156           0\n",
              "X_1157           0\n",
              "X_1158           2\n",
              "X_1159           2\n",
              "X_1160           2\n",
              "X_1161           2\n",
              "X_1162           2\n",
              "X_1163           2\n",
              "X_1164           2\n",
              "X_1165           2\n",
              "X_1166           2\n",
              "X_1167          54\n",
              "X_1168          54\n",
              "X_1169          54\n",
              "X_1170          54\n",
              "X_1171          54\n",
              "X_1172           2\n",
              "X_1173           2\n",
              "X_1174          14\n",
              "X_1175           7\n",
              "X_1176           1\n",
              "X_1177           1\n",
              "X_1178           1\n",
              "X_1179           1\n",
              "X_1180           1\n",
              "X_1181           1\n",
              "X_1182           1\n",
              "X_1183           1\n",
              "X_1184           1\n",
              "X_1185           1\n",
              "X_1186           1\n",
              "X_1187           1\n",
              "X_1188           1\n",
              "X_1189           1\n",
              "X_1190           1\n",
              "X_1191           1\n",
              "X_1192           1\n",
              "X_1193           0\n",
              "X_1194           0\n",
              "X_1195           0\n",
              "X_1196           0\n",
              "X_1197           0\n",
              "X_1198           0\n",
              "X_1199           0\n",
              "X_1200           0\n",
              "X_1201           0\n",
              "X_1202           0\n",
              "X_1203           0\n",
              "X_1204           0\n",
              "X_1205           0\n",
              "X_1206           0\n",
              "X_1207           0\n",
              "X_1208           0\n",
              "X_1209           0\n",
              "X_1210           0\n",
              "X_1211           0\n",
              "X_1212           0\n",
              "X_1213           0\n",
              "X_1214           0\n",
              "X_1215           0\n",
              "X_1216           0\n",
              "X_1217           0\n",
              "X_1218           0\n",
              "X_1219          74\n",
              "X_1220           0\n",
              "X_1221           0\n",
              "X_1222           0\n",
              "X_1223           0\n",
              "X_1224           0\n",
              "X_1225           0\n",
              "X_1226           0\n",
              "X_1227           0\n",
              "X_1228           1\n",
              "X_1229           1\n",
              "X_1230           1\n",
              "X_1231           1\n",
              "X_1232           2\n",
              "X_1233           2\n",
              "X_1234           2\n",
              "X_1235           2\n",
              "X_1236           2\n",
              "X_1237           2\n",
              "X_1238           2\n",
              "X_1239           2\n",
              "X_1240           2\n",
              "X_1241           2\n",
              "X_1242           2\n",
              "X_1243           2\n",
              "X_1244           2\n",
              "X_1245           2\n",
              "X_1246           2\n",
              "X_1247           2\n",
              "X_1248           2\n",
              "X_1249           2\n",
              "X_1250           2\n",
              "X_1251           2\n",
              "X_1252           2\n",
              "X_1253           2\n",
              "X_1254           2\n",
              "X_1255           2\n",
              "X_1256           2\n",
              "X_1257           2\n",
              "X_1258           2\n",
              "X_1259           2\n",
              "X_1260           2\n",
              "X_1261           2\n",
              "X_1262           2\n",
              "X_1263           2\n",
              "X_1264           2\n",
              "X_1265           2\n",
              "X_1266           2\n",
              "X_1267           2\n",
              "X_1268           2\n",
              "X_1269           2\n",
              "X_1270           2\n",
              "X_1271           2\n",
              "X_1272           2\n",
              "X_1273           2\n",
              "X_1274          54\n",
              "X_1275          54\n",
              "X_1276          54\n",
              "X_1277          54\n",
              "X_1278          54\n",
              "X_1279           2\n",
              "X_1280           2\n",
              "X_1281           2\n",
              "X_1282           2\n",
              "X_1283           2\n",
              "X_1284           2\n",
              "X_1285           2\n",
              "X_1286           2\n",
              "X_1287           2\n",
              "X_1288           2\n",
              "X_1289           2\n",
              "X_1290           2\n",
              "X_1291           2\n",
              "X_1292           2\n",
              "X_1293           2\n",
              "X_1294           2\n",
              "X_1295           2\n",
              "X_1296           2\n",
              "X_1297           2\n",
              "X_1298           2\n",
              "X_1299           2\n",
              "X_1300           2\n",
              "X_1301           2\n",
              "X_1302           2\n",
              "X_1303           2\n",
              "X_1304           2\n",
              "X_1305           2\n",
              "X_1306           2\n",
              "X_1307           2\n",
              "X_1308           2\n",
              "X_1309           2\n",
              "X_1310           2\n",
              "X_1311           2\n",
              "X_1312           2\n",
              "X_1313           2\n",
              "X_1314           2\n",
              "X_1315           2\n",
              "X_1316           2\n",
              "X_1317           2\n",
              "X_1318           2\n",
              "X_1319           2\n",
              "X_1320           2\n",
              "X_1321           0\n",
              "X_1322           0\n",
              "X_1323           0\n",
              "X_1324           0\n",
              "X_1325           0\n",
              "X_1326           0\n",
              "X_1327           0\n",
              "X_1328           0\n",
              "X_1329           0\n",
              "X_1330           0\n",
              "X_1331           0\n",
              "X_1332           0\n",
              "X_1333           0\n",
              "X_1334           0\n",
              "X_1335           0\n",
              "X_1336           2\n",
              "X_1337           2\n",
              "X_1338           2\n",
              "X_1339           2\n",
              "X_1340           2\n",
              "X_1341           2\n",
              "X_1342           2\n",
              "X_1343           2\n",
              "X_1344           2\n",
              "X_1345           2\n",
              "X_1346           2\n",
              "X_1347           2\n",
              "X_1348           2\n",
              "X_1349           2\n",
              "X_1350           2\n",
              "X_1351           2\n",
              "X_1352           2\n",
              "X_1353           2\n",
              "X_1354           2\n",
              "X_1355           2\n",
              "X_1356           2\n",
              "X_1357           2\n",
              "X_1358           2\n",
              "X_1359           2\n",
              "X_1360           2\n",
              "X_1361           2\n",
              "X_1362           2\n",
              "X_1363           2\n",
              "X_1364           2\n",
              "X_1365           2\n",
              "X_1367           2\n",
              "X_1368           2\n",
              "X_1369           2\n",
              "X_1370           2\n",
              "X_1371           2\n",
              "X_1372           2\n",
              "X_1373           2\n",
              "X_1374           2\n",
              "X_1375           2\n",
              "X_1376           2\n",
              "X_1377           2\n",
              "X_1378           2\n",
              "X_1379           2\n",
              "X_1380           2\n",
              "X_1381           2\n",
              "X_1382           2\n",
              "X_1383           2\n",
              "X_1384           2\n",
              "X_1385           2\n",
              "X_1386           2\n",
              "X_1387           2\n",
              "X_1388           2\n",
              "X_1389           2\n",
              "X_1390           2\n",
              "X_1391           2\n",
              "X_1392           2\n",
              "X_1393           2\n",
              "X_1394           2\n",
              "X_1395           2\n",
              "X_1396           2\n",
              "X_1397           2\n",
              "X_1398           2\n",
              "X_1399           2\n",
              "X_1400           1\n",
              "X_1401           1\n",
              "X_1402           1\n",
              "X_1403           1\n",
              "X_1404           1\n",
              "X_1405           0\n",
              "X_1406           0\n",
              "X_1407          74\n",
              "X_1408          12\n",
              "X_1409           2\n",
              "X_1410           2\n",
              "X_1411           2\n",
              "X_1412           2\n",
              "X_1413           2\n",
              "X_1414           2\n",
              "X_1415           2\n",
              "X_1416           2\n",
              "X_1417           2\n",
              "X_1418           2\n",
              "X_1419           2\n",
              "X_1420           2\n",
              "X_1421           2\n",
              "X_1422           2\n",
              "X_1423           2\n",
              "X_1424           2\n",
              "X_1425           2\n",
              "X_1426           2\n",
              "X_1427           2\n",
              "X_1428           2\n",
              "X_1429           2\n",
              "X_1430           2\n",
              "X_1431           0\n",
              "X_1432           0\n",
              "X_1433           1\n",
              "X_1434           1\n",
              "X_1435           1\n",
              "X_1436           1\n",
              "X_1437           1\n",
              "X_1438           1\n",
              "X_1439           1\n",
              "X_1440           1\n",
              "X_1441           1\n",
              "X_1442           1\n",
              "X_1443           1\n",
              "X_1444           1\n",
              "X_1445           1\n",
              "X_1446           1\n",
              "X_1447           1\n",
              "X_1448           1\n",
              "X_1449           1\n",
              "X_1450           1\n",
              "X_1451           1\n",
              "X_1452           1\n",
              "X_1453           1\n",
              "X_1454           1\n",
              "X_1455           1\n",
              "X_1456           1\n",
              "X_1457           1\n",
              "X_1458           1\n",
              "X_1459           1\n",
              "X_1460           1\n",
              "X_1461           1\n",
              "X_1462           1\n",
              "X_1463           1\n",
              "X_1464           1\n",
              "X_1465           1\n",
              "X_1466           1\n",
              "X_1467           1\n",
              "X_1468           1\n",
              "X_1469           1\n",
              "X_1470           1\n",
              "X_1471           1\n",
              "X_1472           1\n",
              "X_1473           0\n",
              "X_1474           0\n",
              "X_1475           0\n",
              "X_1476           0\n",
              "X_1477           0\n",
              "X_1478           0\n",
              "X_1479           0\n",
              "X_1480           0\n",
              "X_1481           0\n",
              "X_1482           0\n",
              "X_1483           0\n",
              "X_1484           0\n",
              "X_1485           0\n",
              "X_1486           0\n",
              "X_1487           0\n",
              "X_1488           0\n",
              "X_1489           0\n",
              "X_1490           0\n",
              "X_1491           0\n",
              "X_1492           0\n",
              "X_1493           0\n",
              "X_1494           0\n",
              "X_1495           0\n",
              "X_1496           0\n",
              "X_1497           0\n",
              "X_1498           0\n",
              "X_1499           0\n",
              "X_1500           0\n",
              "X_1501           0\n",
              "X_1502           0\n",
              "X_1503           0\n",
              "X_1504           0\n",
              "X_1505           0\n",
              "X_1506           0\n",
              "X_1507           0\n",
              "X_1508           0\n",
              "X_1509           0\n",
              "X_1510           0\n",
              "X_1511           0\n",
              "X_1512           0\n",
              "X_1513           0\n",
              "X_1514           0\n",
              "X_1515           0\n",
              "X_1516           0\n",
              "X_1517           0\n",
              "X_1518           0\n",
              "X_1519           0\n",
              "X_1520           0\n",
              "X_1521           0\n",
              "X_1522           0\n",
              "X_1523          74\n",
              "X_1524          74\n",
              "X_1525          74\n",
              "X_1526           0\n",
              "X_1527           0\n",
              "X_1528           0\n",
              "X_1529           0\n",
              "X_1530           0\n",
              "X_1531           0\n",
              "X_1532           1\n",
              "X_1533           1\n",
              "X_1534           1\n",
              "X_1535           1\n",
              "X_1536           1\n",
              "X_1537           1\n",
              "X_1538           0\n",
              "X_1539           0\n",
              "X_1540          52\n",
              "X_1541           0\n",
              "X_1542           0\n",
              "X_1543           0\n",
              "X_1544           0\n",
              "X_1545           0\n",
              "X_1546           0\n",
              "X_1547           0\n",
              "X_1548           0\n",
              "X_1549           0\n",
              "X_1550           0\n",
              "X_1551           0\n",
              "X_1552           0\n",
              "X_1553           0\n",
              "X_1554           0\n",
              "X_1555           0\n",
              "X_1556           1\n",
              "X_1557           1\n",
              "X_1558           1\n",
              "X_1559           1\n",
              "X_1560           1\n",
              "X_1561           1\n",
              "X_1562           1\n",
              "X_1563           1\n",
              "X_1564           1\n",
              "X_1565           2\n",
              "X_1566           2\n",
              "X_1567           2\n",
              "X_1568           2\n",
              "X_1569           2\n",
              "X_1570           2\n",
              "X_1571           2\n",
              "X_1572           2\n",
              "X_1573           2\n",
              "X_1574           2\n",
              "X_1575           2\n",
              "X_1576           2\n",
              "X_1577           2\n",
              "X_1578           2\n",
              "X_1579           2\n",
              "X_1580           2\n",
              "X_1581           2\n",
              "X_1582           2\n",
              "X_1583           2\n",
              "X_1584           2\n",
              "X_1585           2\n",
              "X_1586           2\n",
              "X_1587           2\n",
              "X_1588           2\n",
              "X_1589           2\n",
              "X_1590           2\n",
              "X_1591           2\n",
              "X_1592           2\n",
              "X_1593           2\n",
              "X_1594           2\n",
              "X_1595           2\n",
              "X_1596           2\n",
              "X_1597           2\n",
              "X_1598           2\n",
              "X_1599           2\n",
              "X_1600           2\n",
              "X_1601           2\n",
              "X_1602           2\n",
              "X_1603           2\n",
              "X_1604           2\n",
              "X_1605           2\n",
              "X_1606           2\n",
              "X_1607           2\n",
              "X_1608           2\n",
              "X_1609           2\n",
              "X_1610           2\n",
              "X_1611           2\n",
              "X_1612           2\n",
              "X_1613           2\n",
              "X_1614           2\n",
              "X_1615           2\n",
              "X_1616           2\n",
              "X_1617           2\n",
              "X_1618           2\n",
              "X_1619           2\n",
              "X_1620           2\n",
              "X_1621           2\n",
              "X_1622           2\n",
              "X_1623           2\n",
              "X_1624           2\n",
              "X_1625           2\n",
              "X_1626           2\n",
              "X_1627           2\n",
              "X_1628           2\n",
              "X_1629           2\n",
              "X_1630           2\n",
              "X_1631           2\n",
              "X_1632           2\n",
              "X_1633           2\n",
              "X_1634           2\n",
              "X_1635           2\n",
              "X_1636           2\n",
              "X_1637           2\n",
              "X_1638           2\n",
              "X_1639           2\n",
              "X_1640           2\n",
              "X_1641           2\n",
              "X_1642           2\n",
              "X_1643           2\n",
              "X_1644           2\n",
              "X_1645           2\n",
              "X_1646           2\n",
              "X_1647           2\n",
              "X_1648           2\n",
              "X_1649           2\n",
              "X_1650           2\n",
              "X_1651           2\n",
              "X_1652           2\n",
              "X_1653           2\n",
              "X_1654           2\n",
              "X_1655           2\n",
              "X_1656           2\n",
              "X_1657           2\n",
              "X_1658           2\n",
              "X_1659           2\n",
              "X_1660           2\n",
              "X_1661           2\n",
              "X_1662           2\n",
              "X_1663           2\n",
              "X_1664           2\n",
              "X_1665           2\n",
              "X_1666           2\n",
              "X_1667           2\n",
              "X_1668           2\n",
              "X_1669           2\n",
              "X_1670           2\n",
              "X_1671           2\n",
              "X_1672           2\n",
              "X_1673           2\n",
              "X_1674           2\n",
              "X_1675           2\n",
              "X_1676           2\n",
              "X_1677           2\n",
              "X_1678           2\n",
              "X_1679           2\n",
              "X_1680           2\n",
              "X_1681           2\n",
              "X_1682           2\n",
              "X_1683           2\n",
              "X_1684           2\n",
              "X_1685           2\n",
              "X_1686           2\n",
              "X_1687           2\n",
              "X_1688           2\n",
              "X_1689           2\n",
              "X_1690           2\n",
              "X_1691           2\n",
              "X_1692           2\n",
              "X_1693           2\n",
              "X_1694           2\n",
              "X_1695           2\n",
              "X_1696           2\n",
              "X_1697           2\n",
              "X_1698           2\n",
              "X_1699           2\n",
              "X_1700           2\n",
              "X_1701           0\n",
              "X_1702           0\n",
              "X_1703           0\n",
              "X_1704           0\n",
              "X_1705           0\n",
              "X_1706           0\n",
              "X_1711           0\n",
              "X_1712           0\n",
              "X_1713           0\n",
              "X_1714           0\n",
              "X_1715           0\n",
              "X_1716           0\n",
              "X_1717           0\n",
              "X_1718           0\n",
              "X_1719           0\n",
              "X_1720           0\n",
              "X_1721           0\n",
              "X_1722           0\n",
              "X_1723           0\n",
              "X_1724           0\n",
              "X_1725           0\n",
              "X_1726           0\n",
              "X_1727           0\n",
              "X_1728           0\n",
              "X_1729           0\n",
              "X_1730           0\n",
              "X_1731           0\n",
              "X_1732           0\n",
              "X_1733           0\n",
              "X_1734           0\n",
              "X_1735           0\n",
              "X_1736           0\n",
              "X_1737           0\n",
              "X_1738           0\n",
              "X_1739           0\n",
              "X_1740           0\n",
              "X_1741           0\n",
              "X_1742           0\n",
              "X_1743           0\n",
              "X_1744           0\n",
              "X_1745           0\n",
              "X_1746           0\n",
              "X_1747           0\n",
              "X_1748           0\n",
              "X_1749           0\n",
              "X_1750           0\n",
              "X_1751           0\n",
              "X_1752           0\n",
              "X_1753           0\n",
              "X_1754           0\n",
              "X_1755           0\n",
              "X_1756           0\n",
              "X_1757           0\n",
              "X_1758           0\n",
              "X_1759           0\n",
              "X_1760           0\n",
              "X_1761           0\n",
              "X_1762           0\n",
              "X_1763           0\n",
              "X_1764           0\n",
              "X_1765           0\n",
              "X_1766           0\n",
              "X_1767           0\n",
              "X_1768           0\n",
              "X_1769           0\n",
              "X_1770           0\n",
              "X_1771           0\n",
              "X_1772           0\n",
              "X_1773           0\n",
              "X_1774           0\n",
              "X_1775           0\n",
              "X_1776           0\n",
              "X_1777           0\n",
              "X_1778           0\n",
              "X_1779           0\n",
              "X_1780           0\n",
              "X_1781           0\n",
              "X_1782           0\n",
              "X_1783           0\n",
              "X_1784           0\n",
              "X_1785           0\n",
              "X_1786           0\n",
              "X_1787           0\n",
              "X_1788           0\n",
              "X_1789           0\n",
              "X_1790           0\n",
              "X_1791           0\n",
              "X_1792           0\n",
              "X_1793           0\n",
              "X_1794           0\n",
              "X_1795           0\n",
              "X_1796           0\n",
              "X_1797           0\n",
              "X_1798           0\n",
              "X_1799           0\n",
              "X_1800           0\n",
              "X_1801           0\n",
              "X_1802           0\n",
              "X_1803           0\n",
              "X_1804           0\n",
              "X_1805           0\n",
              "X_1806           0\n",
              "X_1807           0\n",
              "X_1808           0\n",
              "X_1809           0\n",
              "X_1810           0\n",
              "X_1811           0\n",
              "X_1812           0\n",
              "X_1813           0\n",
              "X_1814           0\n",
              "X_1815           0\n",
              "X_1816           0\n",
              "X_1817           0\n",
              "X_1818           0\n",
              "X_1819           0\n",
              "X_1820           0\n",
              "X_1821           0\n",
              "X_1822           0\n",
              "X_1823           0\n",
              "X_1824           0\n",
              "X_1825           0\n",
              "X_1826           0\n",
              "X_1827           0\n",
              "X_1828           0\n",
              "X_1829           0\n",
              "X_1830           0\n",
              "X_1831           0\n",
              "X_1832           0\n",
              "X_1833           0\n",
              "X_1834           0\n",
              "X_1835           0\n",
              "X_1836           0\n",
              "X_1837           0\n",
              "X_1838           0\n",
              "X_1839           0\n",
              "X_1840           0\n",
              "X_1841           0\n",
              "X_1842           0\n",
              "X_1843           0\n",
              "X_1844           0\n",
              "X_1845           0\n",
              "X_1846           0\n",
              "X_1847           0\n",
              "X_1848           0\n",
              "X_1849           0\n",
              "X_1850           0\n",
              "X_1851           0\n",
              "X_1852           0\n",
              "X_1853           0\n",
              "X_1854           0\n",
              "X_1855           0\n",
              "X_1856           0\n",
              "X_1857           0\n",
              "X_1858           0\n",
              "X_1859           0\n",
              "X_1860           0\n",
              "X_1861           0\n",
              "X_1862           0\n",
              "X_1863           0\n",
              "X_1864           0\n",
              "X_1865           0\n",
              "X_1866           0\n",
              "X_1867           0\n",
              "X_1868           0\n",
              "X_1869           0\n",
              "X_1870           0\n",
              "X_1871           0\n",
              "X_1872           0\n",
              "X_1873           0\n",
              "X_1874           0\n",
              "X_1875           0\n",
              "X_1876           0\n",
              "X_1877           0\n",
              "X_1878           0\n",
              "X_1879           0\n",
              "X_1880           0\n",
              "X_1881           0\n",
              "X_1882           0\n",
              "X_1883           0\n",
              "X_1884           0\n",
              "X_1885           0\n",
              "X_1886           0\n",
              "X_1887           0\n",
              "X_1888           0\n",
              "X_1889           0\n",
              "X_1890           0\n",
              "X_1891           0\n",
              "X_1892           0\n",
              "X_1893           0\n",
              "X_1894           0\n",
              "X_1895           0\n",
              "X_1896           0\n",
              "X_1897           0\n",
              "X_1898           0\n",
              "X_1899           0\n",
              "X_1900           0\n",
              "X_1901           0\n",
              "X_1902           0\n",
              "X_1903           0\n",
              "X_1904           0\n",
              "X_1905           0\n",
              "X_1906           0\n",
              "X_1907           0\n",
              "X_1908           0\n",
              "X_1909           0\n",
              "X_1910           0\n",
              "X_1911           0\n",
              "X_1912           0\n",
              "X_1913           0\n",
              "X_1914           0\n",
              "X_1915           0\n",
              "X_1916           0\n",
              "X_1917           0\n",
              "X_1918           0\n",
              "X_1919           0\n",
              "X_1920           0\n",
              "X_1921           0\n",
              "X_1922           0\n",
              "X_1923           0\n",
              "X_1924           0\n",
              "X_1925           0\n",
              "X_1926           0\n",
              "X_1927           0\n",
              "X_1928           0\n",
              "X_1929           0\n",
              "X_1930           0\n",
              "X_1931           0\n",
              "X_1932           0\n",
              "X_1933           0\n",
              "X_1934           0\n",
              "X_1935           0\n",
              "X_1936           0\n",
              "X_1937           0\n",
              "X_1938           0\n",
              "X_1939           0\n",
              "X_1940           0\n",
              "X_1941           0\n",
              "X_1942           0\n",
              "X_1943           0\n",
              "X_1944           0\n",
              "X_1945           0\n",
              "X_1946           0\n",
              "X_1947           0\n",
              "X_1948           0\n",
              "X_1949           0\n",
              "X_1950           0\n",
              "X_1951          11\n",
              "X_1952          11\n",
              "X_1953          11\n",
              "X_1954          11\n",
              "X_1955          11\n",
              "X_1956          11\n",
              "X_1957          11\n",
              "X_1958          11\n",
              "X_1959          11\n",
              "X_1960          11\n",
              "X_1961          11\n",
              "X_1962          11\n",
              "X_1963          11\n",
              "X_1964          11\n",
              "X_1965          11\n",
              "X_1966          11\n",
              "X_1967          11\n",
              "X_1968          11\n",
              "X_1969          59\n",
              "X_1970          59\n",
              "X_1971          59\n",
              "X_1972          59\n",
              "X_1973          59\n",
              "X_1974          59\n",
              "X_1975          59\n",
              "X_1976          59\n",
              "X_1977          59\n",
              "X_1978          59\n",
              "X_1979          59\n",
              "X_1980          59\n",
              "X_1981          59\n",
              "X_1982          59\n",
              "X_1983          59\n",
              "X_1984          59\n",
              "X_1985          59\n",
              "X_1986          59\n",
              "X_1987          59\n",
              "X_1988          59\n",
              "X_1989          59\n",
              "X_1990          59\n",
              "X_1991          59\n",
              "X_1992          59\n",
              "X_1993          59\n",
              "X_1994          59\n",
              "X_1995          59\n",
              "X_1996          59\n",
              "X_1997          59\n",
              "X_1998          59\n",
              "X_1999          59\n",
              "X_2000          59\n",
              "X_2001          59\n",
              "X_2002          59\n",
              "X_2003          59\n",
              "X_2004          59\n",
              "X_2005          59\n",
              "X_2006          59\n",
              "X_2007          59\n",
              "X_2008          59\n",
              "X_2009          59\n",
              "X_2010          59\n",
              "X_2011          59\n",
              "X_2012          59\n",
              "X_2013          59\n",
              "X_2014          59\n",
              "X_2015          59\n",
              "X_2016          59\n",
              "X_2017           0\n",
              "X_2018           0\n",
              "X_2019           0\n",
              "X_2020           0\n",
              "X_2021           0\n",
              "X_2022           0\n",
              "X_2023           0\n",
              "X_2024           0\n",
              "X_2025           0\n",
              "X_2026           0\n",
              "X_2027           0\n",
              "X_2028           0\n",
              "X_2029          59\n",
              "X_2030          59\n",
              "X_2031          59\n",
              "X_2032          59\n",
              "X_2033          59\n",
              "X_2034          59\n",
              "X_2035          59\n",
              "X_2036          59\n",
              "X_2037          59\n",
              "X_2038          59\n",
              "X_2039          59\n",
              "X_2040          59\n",
              "X_2041          11\n",
              "X_2042          11\n",
              "X_2043          11\n",
              "X_2044           1\n",
              "X_2045           1\n",
              "X_2046           0\n",
              "X_2047           0\n",
              "X_2048           0\n",
              "X_2049           0\n",
              "X_2050           0\n",
              "X_2051           0\n",
              "X_2052           0\n",
              "X_2053           0\n",
              "X_2054           0\n",
              "X_2055           0\n",
              "X_2056           2\n",
              "X_2057           2\n",
              "X_2058           2\n",
              "X_2059           2\n",
              "X_2060           2\n",
              "X_2061           2\n",
              "X_2062           2\n",
              "X_2063          39\n",
              "X_2064          39\n",
              "X_2065          39\n",
              "X_2066          39\n",
              "X_2067          39\n",
              "X_2068          39\n",
              "X_2069          39\n",
              "X_2070          39\n",
              "X_2071          39\n",
              "X_2072          39\n",
              "X_2073          39\n",
              "X_2074          39\n",
              "X_2075          39\n",
              "X_2076          39\n",
              "X_2077          39\n",
              "X_2078          39\n",
              "X_2079          39\n",
              "X_2080          39\n",
              "X_2081          39\n",
              "X_2082          39\n",
              "X_2083          39\n",
              "X_2084          39\n",
              "X_2085          39\n",
              "X_2086          39\n",
              "X_2087          39\n",
              "X_2088          39\n",
              "X_2089          39\n",
              "X_2090          39\n",
              "X_2091          39\n",
              "X_2092          39\n",
              "X_2093           0\n",
              "X_2094           0\n",
              "X_2095           0\n",
              "X_2096           0\n",
              "X_2097           0\n",
              "X_2098           0\n",
              "X_2099           0\n",
              "X_2100          39\n",
              "X_2101          39\n",
              "X_2102          39\n",
              "X_2103          39\n",
              "X_2104          39\n",
              "X_2105          39\n",
              "X_2106          39\n",
              "X_2107          39\n",
              "X_2108          39\n",
              "X_2109          39\n",
              "X_2110          39\n",
              "X_2111          39\n",
              "X_2112          39\n",
              "X_2113          39\n",
              "X_2114          39\n",
              "X_2115          39\n",
              "X_2116          39\n",
              "X_2117          39\n",
              "X_2118          39\n",
              "X_2119          39\n",
              "X_2120          39\n",
              "X_2121          39\n",
              "X_2122          39\n",
              "X_2123          39\n",
              "X_2124          39\n",
              "X_2125          39\n",
              "X_2126          39\n",
              "X_2127          39\n",
              "X_2128          39\n",
              "X_2129          39\n",
              "X_2130          39\n",
              "X_2131          39\n",
              "X_2132          39\n",
              "X_2133          39\n",
              "X_2134          39\n",
              "X_2135          39\n",
              "X_2136          39\n",
              "X_2137          39\n",
              "X_2138          39\n",
              "X_2139          39\n",
              "X_2140          39\n",
              "X_2141          39\n",
              "X_2142          39\n",
              "X_2143          39\n",
              "X_2144          39\n",
              "X_2145          39\n",
              "X_2146          39\n",
              "X_2147          39\n",
              "X_2148          39\n",
              "X_2149          39\n",
              "X_2150          39\n",
              "X_2151          39\n",
              "X_2152          39\n",
              "X_2153          39\n",
              "X_2154          39\n",
              "X_2155          39\n",
              "X_2156          39\n",
              "X_2157          39\n",
              "X_2158          39\n",
              "X_2159          39\n",
              "X_2160          39\n",
              "X_2161          39\n",
              "X_2162          39\n",
              "X_2163          39\n",
              "X_2164          39\n",
              "X_2165          39\n",
              "X_2166          39\n",
              "X_2167          39\n",
              "X_2168          39\n",
              "X_2169          39\n",
              "X_2170          39\n",
              "X_2171          39\n",
              "X_2172          39\n",
              "X_2173          39\n",
              "X_2174          39\n",
              "X_2175          39\n",
              "X_2176          39\n",
              "X_2177          39\n",
              "X_2178          39\n",
              "X_2179          39\n",
              "X_2180          39\n",
              "X_2181          39\n",
              "X_2182          39\n",
              "X_2183          39\n",
              "X_2184          39\n",
              "X_2185          39\n",
              "X_2186          39\n",
              "X_2187          39\n",
              "X_2188          39\n",
              "X_2189          39\n",
              "X_2190          39\n",
              "X_2191          39\n",
              "X_2192          39\n",
              "X_2193          39\n",
              "X_2194          39\n",
              "X_2195          39\n",
              "X_2196          39\n",
              "X_2197          39\n",
              "X_2198          39\n",
              "X_2199          39\n",
              "X_2200          39\n",
              "X_2201          39\n",
              "X_2202          39\n",
              "X_2203          39\n",
              "X_2204          39\n",
              "X_2205          39\n",
              "X_2206          39\n",
              "X_2207          39\n",
              "X_2208          39\n",
              "X_2209          39\n",
              "X_2210          39\n",
              "X_2211          39\n",
              "X_2212          39\n",
              "X_2213          39\n",
              "X_2214          39\n",
              "X_2215          39\n",
              "X_2216          39\n",
              "X_2217          39\n",
              "X_2218          39\n",
              "X_2219          39\n",
              "X_2220          39\n",
              "X_2221          39\n",
              "X_2222          39\n",
              "X_2223          39\n",
              "X_2224          39\n",
              "X_2225          39\n",
              "X_2226          39\n",
              "X_2227          39\n",
              "X_2228          39\n",
              "X_2229          39\n",
              "X_2230          39\n",
              "X_2231          39\n",
              "X_2232          39\n",
              "X_2233          39\n",
              "X_2234          39\n",
              "X_2235          39\n",
              "X_2236          39\n",
              "X_2237          39\n",
              "X_2238          39\n",
              "X_2239          39\n",
              "X_2240          39\n",
              "X_2241          39\n",
              "X_2242          39\n",
              "X_2243          39\n",
              "X_2244          39\n",
              "X_2245          39\n",
              "X_2246          39\n",
              "X_2247          39\n",
              "X_2248          39\n",
              "X_2249          39\n",
              "X_2250          39\n",
              "X_2251          39\n",
              "X_2252          39\n",
              "X_2253          39\n",
              "X_2254          39\n",
              "X_2255          39\n",
              "X_2256          39\n",
              "X_2257          39\n",
              "X_2258          39\n",
              "X_2259          39\n",
              "X_2260          39\n",
              "X_2261          39\n",
              "X_2262          39\n",
              "X_2263          39\n",
              "X_2264          39\n",
              "X_2265          39\n",
              "X_2266          39\n",
              "X_2267          39\n",
              "X_2268          39\n",
              "X_2269          39\n",
              "X_2270          39\n",
              "X_2271          39\n",
              "X_2272          39\n",
              "X_2273          39\n",
              "X_2274          39\n",
              "X_2275          39\n",
              "X_2276          39\n",
              "X_2277          39\n",
              "X_2278          39\n",
              "X_2279          39\n",
              "X_2280          39\n",
              "X_2281          39\n",
              "X_2282          39\n",
              "X_2283          39\n",
              "X_2284          39\n",
              "X_2285          39\n",
              "X_2286          39\n",
              "X_2287          39\n",
              "X_2288          39\n",
              "X_2289          39\n",
              "X_2290          39\n",
              "X_2291          39\n",
              "X_2292          39\n",
              "X_2293          39\n",
              "X_2294          39\n",
              "X_2295          39\n",
              "X_2296          39\n",
              "X_2297          39\n",
              "X_2298          39\n",
              "X_2299          39\n",
              "X_2300          39\n",
              "X_2301          39\n",
              "X_2302          39\n",
              "X_2303          39\n",
              "X_2304          39\n",
              "X_2305          39\n",
              "X_2306          39\n",
              "X_2307          39\n",
              "X_2308          39\n",
              "X_2309          39\n",
              "X_2310          39\n",
              "X_2311          39\n",
              "X_2312          39\n",
              "X_2313          39\n",
              "X_2314          39\n",
              "X_2315          39\n",
              "X_2316          39\n",
              "X_2317          39\n",
              "X_2318          39\n",
              "X_2319          39\n",
              "X_2320          39\n",
              "X_2321          39\n",
              "X_2322          39\n",
              "X_2323          39\n",
              "X_2324          39\n",
              "X_2325          39\n",
              "X_2326          39\n",
              "X_2327          39\n",
              "X_2328          39\n",
              "X_2329          39\n",
              "X_2330          39\n",
              "X_2331          39\n",
              "X_2332          39\n",
              "X_2333          39\n",
              "X_2334          39\n",
              "X_2335          39\n",
              "X_2336          39\n",
              "X_2337          39\n",
              "X_2338          39\n",
              "X_2339          39\n",
              "X_2340          39\n",
              "X_2341          39\n",
              "X_2342          39\n",
              "X_2343          39\n",
              "X_2344          39\n",
              "X_2345          39\n",
              "X_2346          39\n",
              "X_2347          39\n",
              "X_2348          39\n",
              "X_2349          39\n",
              "X_2350          39\n",
              "X_2351          39\n",
              "X_2352          39\n",
              "X_2353          39\n",
              "X_2354          39\n",
              "X_2355          39\n",
              "X_2356          39\n",
              "X_2357          39\n",
              "X_2358          39\n",
              "X_2359          39\n",
              "X_2360          39\n",
              "X_2361          39\n",
              "X_2362          39\n",
              "X_2363          39\n",
              "X_2364          39\n",
              "X_2365          39\n",
              "X_2366          39\n",
              "X_2367          39\n",
              "X_2368          39\n",
              "X_2369          39\n",
              "X_2370          39\n",
              "X_2371          39\n",
              "X_2372          39\n",
              "X_2373          39\n",
              "X_2374          39\n",
              "X_2375          39\n",
              "X_2376          39\n",
              "X_2377          39\n",
              "X_2378          39\n",
              "X_2379          39\n",
              "X_2380          39\n",
              "X_2381          39\n",
              "X_2382          39\n",
              "X_2383          39\n",
              "X_2384          39\n",
              "X_2385          39\n",
              "X_2386          39\n",
              "X_2387          39\n",
              "X_2388          39\n",
              "X_2389          39\n",
              "X_2390          39\n",
              "X_2391          39\n",
              "X_2392          39\n",
              "X_2393          39\n",
              "X_2394          39\n",
              "X_2395          39\n",
              "X_2396          39\n",
              "X_2397          39\n",
              "X_2398          39\n",
              "X_2399          39\n",
              "X_2400          39\n",
              "X_2401          39\n",
              "X_2402          39\n",
              "X_2403          39\n",
              "X_2404          39\n",
              "X_2405          39\n",
              "X_2406          39\n",
              "X_2407          39\n",
              "X_2408           0\n",
              "X_2409           0\n",
              "X_2410           0\n",
              "X_2411           0\n",
              "X_2412           0\n",
              "X_2413           0\n",
              "X_2414           0\n",
              "X_2415           0\n",
              "X_2416           0\n",
              "X_2417           0\n",
              "X_2418           0\n",
              "X_2419           0\n",
              "X_2420           0\n",
              "X_2421           0\n",
              "X_2422           0\n",
              "X_2423           0\n",
              "X_2424           0\n",
              "X_2425           0\n",
              "X_2426           0\n",
              "X_2427           0\n",
              "X_2428           0\n",
              "X_2429           0\n",
              "X_2430           0\n",
              "X_2431           0\n",
              "X_2432           0\n",
              "X_2433           0\n",
              "X_2434           0\n",
              "X_2435           0\n",
              "X_2436           0\n",
              "X_2437           0\n",
              "X_2438           0\n",
              "X_2439           0\n",
              "X_2440           0\n",
              "X_2441           0\n",
              "X_2442           0\n",
              "X_2443           0\n",
              "X_2444           0\n",
              "X_2445           0\n",
              "X_2446           0\n",
              "X_2447           0\n",
              "X_2448           0\n",
              "X_2449           0\n",
              "X_2450           0\n",
              "X_2451           0\n",
              "X_2452           0\n",
              "X_2453           0\n",
              "X_2454           0\n",
              "X_2455           0\n",
              "X_2456           0\n",
              "X_2457           0\n",
              "X_2458           0\n",
              "X_2459           0\n",
              "X_2460           0\n",
              "X_2461           0\n",
              "X_2462           0\n",
              "X_2463           0\n",
              "X_2464           0\n",
              "X_2465           0\n",
              "X_2466           0\n",
              "X_2467           0\n",
              "X_2468           0\n",
              "X_2469           0\n",
              "X_2470           0\n",
              "X_2471           0\n",
              "X_2472           0\n",
              "X_2473           0\n",
              "X_2474           0\n",
              "X_2475           0\n",
              "X_2476           0\n",
              "X_2477           0\n",
              "X_2478           0\n",
              "X_2479           0\n",
              "X_2480           0\n",
              "X_2481           0\n",
              "X_2482           0\n",
              "X_2483           0\n",
              "X_2484           0\n",
              "X_2485           0\n",
              "X_2486           0\n",
              "X_2487           0\n",
              "X_2488           0\n",
              "X_2489           0\n",
              "X_2490           0\n",
              "X_2491           0\n",
              "X_2492           0\n",
              "X_2493           0\n",
              "X_2494           0\n",
              "X_2495           0\n",
              "X_2496           0\n",
              "X_2497           0\n",
              "X_2498           0\n",
              "X_2499           0\n",
              "X_2500           0\n",
              "X_2501           0\n",
              "X_2502           0\n",
              "X_2503           0\n",
              "X_2504           0\n",
              "X_2505           0\n",
              "X_2506           0\n",
              "X_2507           0\n",
              "X_2508           0\n",
              "X_2509           0\n",
              "X_2510           0\n",
              "X_2511           0\n",
              "X_2512           0\n",
              "X_2513           0\n",
              "X_2514           0\n",
              "X_2515           0\n",
              "X_2516           0\n",
              "X_2517           0\n",
              "X_2518           0\n",
              "X_2519           0\n",
              "X_2520           0\n",
              "X_2521           0\n",
              "X_2522           0\n",
              "X_2523           0\n",
              "X_2524           0\n",
              "X_2525           0\n",
              "X_2526           0\n",
              "X_2527           0\n",
              "X_2528           0\n",
              "X_2529           0\n",
              "X_2530           0\n",
              "X_2531           0\n",
              "X_2532           0\n",
              "X_2533           0\n",
              "X_2534           0\n",
              "X_2535           0\n",
              "X_2536           0\n",
              "X_2537           0\n",
              "X_2538           0\n",
              "X_2539           0\n",
              "X_2543          39\n",
              "X_2544          39\n",
              "X_2546          39\n",
              "X_2547          39\n",
              "X_2549          39\n",
              "X_2550          39\n",
              "X_2552          39\n",
              "X_2553          39\n",
              "X_2554          39\n",
              "X_2555          39\n",
              "X_2556          39\n",
              "X_2557          39\n",
              "X_2558          39\n",
              "X_2559          39\n",
              "X_2560          39\n",
              "X_2561          39\n",
              "X_2562          39\n",
              "X_2563          39\n",
              "X_2564          39\n",
              "X_2565          39\n",
              "X_2566          39\n",
              "X_2567          39\n",
              "X_2568          39\n",
              "X_2569          39\n",
              "X_2570          39\n",
              "X_2571          39\n",
              "X_2572          39\n",
              "X_2573          39\n",
              "X_2574          39\n",
              "X_2575          39\n",
              "X_2576          39\n",
              "X_2577          39\n",
              "X_2578          39\n",
              "X_2579          39\n",
              "X_2580          39\n",
              "X_2581          39\n",
              "X_2582          39\n",
              "X_2583          39\n",
              "X_2584          39\n",
              "X_2585          39\n",
              "X_2586          39\n",
              "X_2587          39\n",
              "X_2588          39\n",
              "X_2589          39\n",
              "X_2590          39\n",
              "X_2591          39\n",
              "X_2592          39\n",
              "X_2593          39\n",
              "X_2594          39\n",
              "X_2595          39\n",
              "X_2596          39\n",
              "X_2597          39\n",
              "X_2598          39\n",
              "X_2599          39\n",
              "X_2600          39\n",
              "X_2601          39\n",
              "X_2602          39\n",
              "X_2603          39\n",
              "X_2604          39\n",
              "X_2605          39\n",
              "X_2606          39\n",
              "X_2607          39\n",
              "X_2608          39\n",
              "X_2609          39\n",
              "X_2610          39\n",
              "X_2611          39\n",
              "X_2612          39\n",
              "X_2613          39\n",
              "X_2614          39\n",
              "X_2615          39\n",
              "X_2616          39\n",
              "X_2617          39\n",
              "X_2618          39\n",
              "X_2619          39\n",
              "X_2620          39\n",
              "X_2621          39\n",
              "X_2622          39\n",
              "X_2623          39\n",
              "X_2624          39\n",
              "X_2625          39\n",
              "X_2626          39\n",
              "X_2627          39\n",
              "X_2700           0\n",
              "X_2701           0\n",
              "X_2702           0\n",
              "X_2703           0\n",
              "X_2704           0\n",
              "X_2705           0\n",
              "X_2706           0\n",
              "X_2707           0\n",
              "X_2708           0\n",
              "X_2709           0\n",
              "X_2710           0\n",
              "X_2711           0\n",
              "X_2712           0\n",
              "X_2713           0\n",
              "X_2714           0\n",
              "X_2715           0\n",
              "X_2716           0\n",
              "X_2717           0\n",
              "X_2718           0\n",
              "X_2719           0\n",
              "X_2720           0\n",
              "X_2724           0\n",
              "X_2725           0\n",
              "X_2726           0\n",
              "X_2727           0\n",
              "X_2728           0\n",
              "X_2729           0\n",
              "X_2730           0\n",
              "X_2731           0\n",
              "X_2732           0\n",
              "X_2733           0\n",
              "X_2734           0\n",
              "X_2735           0\n",
              "X_2736           0\n",
              "X_2737           0\n",
              "X_2738           0\n",
              "X_2739           0\n",
              "X_2740           0\n",
              "X_2741           0\n",
              "X_2742           0\n",
              "X_2743           0\n",
              "X_2744           0\n",
              "X_2745           0\n",
              "X_2746           0\n",
              "X_2747           0\n",
              "X_2748           0\n",
              "X_2749           0\n",
              "X_2750           0\n",
              "X_2751           0\n",
              "X_2752           0\n",
              "X_2753           0\n",
              "X_2754           0\n",
              "X_2755           0\n",
              "X_2756           0\n",
              "X_2757           0\n",
              "X_2758           0\n",
              "X_2759           0\n",
              "X_2760           0\n",
              "X_2761           0\n",
              "X_2762           0\n",
              "X_2763           0\n",
              "X_2764           0\n",
              "X_2765           0\n",
              "X_2766           0\n",
              "X_2767           0\n",
              "X_2768           0\n",
              "X_2769           0\n",
              "X_2770           0\n",
              "X_2771           0\n",
              "X_2772           0\n",
              "X_2776           0\n",
              "X_2777           0\n",
              "X_2778           0\n",
              "X_2779           0\n",
              "X_2780           0\n",
              "X_2781           0\n",
              "X_2782           0\n",
              "X_2783           0\n",
              "X_2784           0\n",
              "X_2785           0\n",
              "X_2786           0\n",
              "X_2787           0\n",
              "X_2788           0\n",
              "X_2789           0\n",
              "X_2790           0\n",
              "X_2791           0\n",
              "X_2792           0\n",
              "X_2793           0\n",
              "X_2794           0\n",
              "X_2795           0\n",
              "X_2796           0\n",
              "X_2797           0\n",
              "X_2798           0\n",
              "X_2799           0\n",
              "X_2800           0\n",
              "X_2801           0\n",
              "X_2802           0\n",
              "X_2803           0\n",
              "X_2804           0\n",
              "X_2805           0\n",
              "X_2806           0\n",
              "X_2807           0\n",
              "X_2808           0\n",
              "X_2809           0\n",
              "X_2810           0\n",
              "X_2811           0\n",
              "X_2812           0\n",
              "X_2813           0\n",
              "X_2814           0\n",
              "X_2815           0\n",
              "X_2816           0\n",
              "X_2817           0\n",
              "X_2818           0\n",
              "X_2819           0\n",
              "X_2820           0\n",
              "X_2821           0\n",
              "X_2822           0\n",
              "X_2823           0\n",
              "X_2824           0\n",
              "X_2825           0\n",
              "X_2826           0\n",
              "X_2827           0\n",
              "X_2828           0\n",
              "X_2829           0\n",
              "X_2830           0\n",
              "X_2831           0\n",
              "X_2832           0\n",
              "X_2833           0\n",
              "X_2834           0\n",
              "X_2835           0\n",
              "X_2836           0\n",
              "X_2837           0\n",
              "X_2839           0\n",
              "X_2840           0\n",
              "X_2841           0\n",
              "X_2842           0\n",
              "X_2843           0\n",
              "X_2845           0\n",
              "X_2846           0\n",
              "X_2847           0\n",
              "X_2848           0\n",
              "X_2849           0\n",
              "X_2850           0\n",
              "X_2851           0\n",
              "X_2852           0\n",
              "X_2853           0\n",
              "X_2854           0\n",
              "X_2855           0\n",
              "X_2856           0\n",
              "X_2857           0\n",
              "X_2858           0\n",
              "X_2859           0\n",
              "X_2860           0\n",
              "X_2861           0\n",
              "X_2862           0\n",
              "X_2863           0\n",
              "X_2864           0\n",
              "X_2865           0\n",
              "X_2866          11\n",
              "X_2867          11\n",
              "X_2868          11\n",
              "X_2869          11\n",
              "X_2870          11\n",
              "X_2871          11\n",
              "dtype: int64"
            ]
          },
          "metadata": {},
          "execution_count": 15
        }
      ],
      "source": [
        "# train 결측값 확인하기\n",
        "\n",
        "# train_x : 전체 행 78개 중 결측치\n",
        "\n",
        "# X_2063 ~ X_2092 39개  # X_2100 ~ X_2407 39개  # X_2543 ~ X_2627 39개\n",
        "\n",
        "train_x.isnull().sum()"
      ]
    },
    {
      "cell_type": "code",
      "source": [
        "# 일단 결측치 39개있는 열도 지우고 성능 별로면 넣어보기 : threshold 38\n",
        "\n",
        "train_x = train_x.dropna(axis=1,thresh=len(train_x)-38)\n",
        "\n",
        "# Columns in test data that are not present in train data\n",
        "# train data에 맞춰서 test data의 column도 정리해주기.\n",
        "cols_to_drop = [col for col in t04_test_x.columns if col not in train_x.columns]\n",
        "\n",
        "# Drop the columns\n",
        "t04_test_x.drop(columns=cols_to_drop, inplace=True)"
      ],
      "metadata": {
        "id": "xNJan58r821l"
      },
      "id": "xNJan58r821l",
      "execution_count": 16,
      "outputs": []
    },
    {
      "cell_type": "code",
      "source": [
        "# 결측치 threshold 안 넘는 열 채우기\n",
        "# 일단 중앙값으로 해봅시다. =>  별로면 KNN\n",
        "\n",
        "train_median = train_x.median()\n",
        "\n",
        "train_x = train_x.fillna(train_median)\n",
        "t04_test_x = t04_test_x.fillna(train_median) # **test의 중앙값 사용하면 안됨!!(Data leackage)**"
      ],
      "metadata": {
        "id": "j0HO03qbtRfa"
      },
      "id": "j0HO03qbtRfa",
      "execution_count": 17,
      "outputs": []
    },
    {
      "cell_type": "markdown",
      "source": [
        "#### Debugging"
      ],
      "metadata": {
        "id": "52I1g8XutYNI"
      },
      "id": "52I1g8XutYNI"
    },
    {
      "cell_type": "code",
      "source": [
        "########################### DEBUG ########################################\n",
        "\n",
        "if (train_x.isnull().any().any() or t04_test_x.isnull().any().any()):\n",
        "  print('missing value check again')\n",
        "\n",
        "if (len(train_x.columns) != len(t04_test_x.columns)):\n",
        "  print('column # check again')"
      ],
      "metadata": {
        "id": "Eki1g5jYLjxA"
      },
      "id": "Eki1g5jYLjxA",
      "execution_count": 18,
      "outputs": []
    },
    {
      "cell_type": "markdown",
      "source": [
        "#### Feature selection\n",
        "Using PCA with StandardScaling"
      ],
      "metadata": {
        "id": "r_K88xPbRMYO"
      },
      "id": "r_K88xPbRMYO"
    },
    {
      "cell_type": "code",
      "source": [
        "from sklearn.preprocessing import StandardScaler  # 표준화 패키지 라이브러리 \n",
        "\n",
        "train_x = StandardScaler().fit_transform(train_x)"
      ],
      "metadata": {
        "id": "3HPAJDLr5JEY"
      },
      "id": "3HPAJDLr5JEY",
      "execution_count": 19,
      "outputs": []
    },
    {
      "cell_type": "code",
      "source": [
        "sum(pca.explained_variance_ratio_)"
      ],
      "metadata": {
        "colab": {
          "base_uri": "https://localhost:8080/"
        },
        "id": "H2fYVwev7pDs",
        "outputId": "f03a7b3e-c11e-49d0-e07f-32e06cd41de8"
      },
      "id": "H2fYVwev7pDs",
      "execution_count": 35,
      "outputs": [
        {
          "output_type": "execute_result",
          "data": {
            "text/plain": [
              "0.800346305862121"
            ]
          },
          "metadata": {},
          "execution_count": 35
        }
      ]
    },
    {
      "cell_type": "code",
      "source": [
        "from sklearn.decomposition import PCA\n",
        "\n",
        "pca = PCA(n_components=30) # 주성분을 몇개로 할지 결정\n",
        "t04_train_new = pca.fit_transform(train_x)\n",
        "t04_test_new = pca.transform(t04_test_x)"
      ],
      "metadata": {
        "colab": {
          "base_uri": "https://localhost:8080/"
        },
        "id": "CQwo1C-S6BrL",
        "outputId": "7d823712-f601-4b62-d196-53cec4970381"
      },
      "id": "CQwo1C-S6BrL",
      "execution_count": 36,
      "outputs": [
        {
          "output_type": "stream",
          "name": "stderr",
          "text": [
            "/usr/local/lib/python3.8/dist-packages/sklearn/base.py:443: UserWarning: X has feature names, but PCA was fitted without feature names\n",
            "  warnings.warn(\n"
          ]
        }
      ]
    },
    {
      "cell_type": "markdown",
      "source": [
        "### 2. **Line T050307(t07)** data preprocessing\n"
      ],
      "metadata": {
        "id": "oE-QTk3cqJys"
      },
      "id": "oE-QTk3cqJys"
    },
    {
      "cell_type": "markdown",
      "source": [
        "#### Divide dataframe and Fill in missing values"
      ],
      "metadata": {
        "id": "9f65L7DIqJyt"
      },
      "id": "9f65L7DIqJyt"
    },
    {
      "cell_type": "code",
      "execution_count": null,
      "metadata": {
        "id": "SWzjUTCtqJyu"
      },
      "outputs": [],
      "source": [
        "train_x = t07_df.drop(columns=['PRODUCT_ID', 'TIMESTAMP', 'Y_Class', 'Y_Quality'])\n",
        "t07_train_y = t07_df['Y_Class']\n",
        "\n",
        "t07_test_x = test07_df.drop(columns=['PRODUCT_ID', 'TIMESTAMP'])"
      ],
      "id": "SWzjUTCtqJyu"
    },
    {
      "cell_type": "code",
      "execution_count": null,
      "metadata": {
        "colab": {
          "base_uri": "https://localhost:8080/"
        },
        "outputId": "502d95e3-3aaf-4d77-98ab-d6f6be55716f",
        "id": "F1G3e1r-qJyu"
      },
      "outputs": [
        {
          "output_type": "stream",
          "name": "stdout",
          "text": [
            "Done.\n"
          ]
        }
      ],
      "source": [
        "# qualitative to quantitative\n",
        "# 각 생산라인과 상품코드를 integer encoding\n",
        "\n",
        "qual_col = ['LINE', 'PRODUCT_CODE']\n",
        "\n",
        "for i in qual_col:\n",
        "    le = LabelEncoder()\n",
        "    le = le.fit(train_x[i])\n",
        "    train_x[i] = le.transform(train_x[i])\n",
        "    \n",
        "    for label in np.unique(t07_test_x[i]): \n",
        "        if label not in le.classes_: \n",
        "            le.classes_ = np.append(le.classes_, label)\n",
        "    t07_test_x[i] = le.transform(t07_test_x[i]) \n",
        "print('Done.')"
      ],
      "id": "F1G3e1r-qJyu"
    },
    {
      "cell_type": "code",
      "execution_count": null,
      "metadata": {
        "id": "Icuf6fiDqJyw"
      },
      "outputs": [],
      "source": [
        "# train 결측값 확인하기\n",
        "\n",
        "# train_x : X_1167 ~ X_1171 28개, X_1274 ~ X_1278 28개, \n",
        "train_x.isnull().sum()"
      ],
      "id": "Icuf6fiDqJyw"
    },
    {
      "cell_type": "code",
      "source": [
        "# column의 반 이상이 결측치면 자른다.\n",
        "train_x = train_x.dropna(axis=1,thresh=len(train_x)/2)\n",
        "\n",
        "# Columns in test data that are not present in train data\n",
        "# train data에 맞춰서 test data의 column도 정리해주기.\n",
        "cols_to_drop = [col for col in t07_test_x.columns if col not in train_x.columns]\n",
        "\n",
        "# Drop the columns\n",
        "t07_test_x.drop(columns=cols_to_drop, inplace=True)"
      ],
      "metadata": {
        "id": "AiQZrngkqJyy"
      },
      "execution_count": null,
      "outputs": [],
      "id": "AiQZrngkqJyy"
    },
    {
      "cell_type": "code",
      "source": [
        "# 결측치 threshold 안 넘는 열 채우기\n",
        "# 일단 중앙값으로 해봅시다. 별로면 KNN\n",
        "\n",
        "train_median = train_x.median()\n",
        "test_median = t07_test_x.median()\n",
        "\n",
        "train_x = train_x.fillna(train_median)\n",
        "t07_test_x = t07_test_x.fillna(test_median)"
      ],
      "metadata": {
        "id": "vXAfU3dVqJyy"
      },
      "execution_count": null,
      "outputs": [],
      "id": "vXAfU3dVqJyy"
    },
    {
      "cell_type": "markdown",
      "source": [
        "#### Debugging"
      ],
      "metadata": {
        "id": "O2n7WyXqtho1"
      },
      "id": "O2n7WyXqtho1"
    },
    {
      "cell_type": "code",
      "source": [
        "########################### DEBUG ########################################\n",
        "\n",
        "if (train_x.isnull().any().any() or t07_test_x.isnull().any().any()):\n",
        "  print('missing value check again')\n",
        "\n",
        "if (len(train_x.columns) != len(t07_test_x.columns)):\n",
        "  print('column # check again')"
      ],
      "metadata": {
        "id": "V3e8quM0qJyz"
      },
      "execution_count": null,
      "outputs": [],
      "id": "V3e8quM0qJyz"
    },
    {
      "cell_type": "markdown",
      "source": [
        "#### Feature selection\n",
        "일단 지금은 UFS방식, 성능 올리려면 좀 더 복잡한 거 써야된다 !!"
      ],
      "metadata": {
        "id": "uvwojwQ-qJy0"
      },
      "id": "uvwojwQ-qJy0"
    },
    {
      "cell_type": "code",
      "source": [
        "from sklearn.feature_selection import SelectKBest, f_regression\n",
        "\n",
        "# the number of top features to select. \n",
        "SELECT_FEATURE = 100\n",
        "\n",
        "# Apply UFS to the training data\n",
        "selector = SelectKBest(f_regression, k=SELECT_FEATURE)\n",
        "\n",
        "# Apply the same UFS to the test data\n",
        "t07_train_new = selector.fit_transform(train_x, t07_train_y)\n",
        "t07_test_new = selector.transform(t07_test_x)"
      ],
      "metadata": {
        "colab": {
          "base_uri": "https://localhost:8080/"
        },
        "outputId": "6c7139a5-954a-4941-fed4-cfdf8ab55e0e",
        "id": "AClc9qJ2qJy1"
      },
      "execution_count": null,
      "outputs": [
        {
          "output_type": "stream",
          "name": "stderr",
          "text": [
            "/usr/local/lib/python3.8/dist-packages/sklearn/feature_selection/_univariate_selection.py:284: RuntimeWarning: invalid value encountered in sqrt\n",
            "  X_norms = np.sqrt(row_norms(X.T, squared=True) - n_samples * X_means ** 2)\n",
            "/usr/local/lib/python3.8/dist-packages/sklearn/feature_selection/_univariate_selection.py:289: RuntimeWarning: divide by zero encountered in true_divide\n",
            "  correlation_coefficient /= X_norms\n",
            "/usr/local/lib/python3.8/dist-packages/sklearn/feature_selection/_univariate_selection.py:289: RuntimeWarning: invalid value encountered in true_divide\n",
            "  correlation_coefficient /= X_norms\n",
            "/usr/local/lib/python3.8/dist-packages/sklearn/feature_selection/_univariate_selection.py:358: RuntimeWarning: invalid value encountered in true_divide\n",
            "  f_statistic = corr_coef_squared / (1 - corr_coef_squared) * deg_of_freedom\n"
          ]
        }
      ],
      "id": "AClc9qJ2qJy1"
    },
    {
      "cell_type": "markdown",
      "source": [
        "### 3. **Line T100304(t14)** data preprocessing\n"
      ],
      "metadata": {
        "id": "e8gPcGUGqN-_"
      },
      "id": "e8gPcGUGqN-_"
    },
    {
      "cell_type": "markdown",
      "source": [
        "#### Divide dataframe and Fill in missing values"
      ],
      "metadata": {
        "id": "fc3-beqJqN_B"
      },
      "id": "fc3-beqJqN_B"
    },
    {
      "cell_type": "code",
      "execution_count": null,
      "metadata": {
        "id": "8L2jxkPRqN_C"
      },
      "outputs": [],
      "source": [
        "train_x = t14_df.drop(columns=['PRODUCT_ID', 'TIMESTAMP', 'Y_Class', 'Y_Quality'])\n",
        "t14_train_y = t14_df['Y_Class']\n",
        "\n",
        "t14_test_x = test14_df.drop(columns=['PRODUCT_ID', 'TIMESTAMP'])"
      ],
      "id": "8L2jxkPRqN_C"
    },
    {
      "cell_type": "code",
      "execution_count": null,
      "metadata": {
        "colab": {
          "base_uri": "https://localhost:8080/"
        },
        "outputId": "6559a921-7e02-4ba0-adf7-dee22bae0ccb",
        "id": "0xJVKfbLqN_C"
      },
      "outputs": [
        {
          "output_type": "stream",
          "name": "stdout",
          "text": [
            "Done.\n"
          ]
        }
      ],
      "source": [
        "# qualitative to quantitative\n",
        "# 각 생산라인과 상품코드를 integer encoding\n",
        "\n",
        "qual_col = ['LINE', 'PRODUCT_CODE']\n",
        "\n",
        "for i in qual_col:\n",
        "    le = LabelEncoder()\n",
        "    le = le.fit(train_x[i])\n",
        "    train_x[i] = le.transform(train_x[i])\n",
        "    \n",
        "    for label in np.unique(t14_test_x[i]): \n",
        "        if label not in le.classes_: \n",
        "            le.classes_ = np.append(le.classes_, label)\n",
        "    t14_test_x[i] = le.transform(t14_test_x[i]) \n",
        "print('Done.')"
      ],
      "id": "0xJVKfbLqN_C"
    },
    {
      "cell_type": "code",
      "execution_count": null,
      "metadata": {
        "colab": {
          "base_uri": "https://localhost:8080/"
        },
        "id": "7Ye2bRAyqN_E",
        "outputId": "3a342141-5a77-4ddb-e57e-5bdfe3d783fa"
      },
      "outputs": [
        {
          "output_type": "execute_result",
          "data": {
            "text/plain": [
              "LINE            0\n",
              "PRODUCT_CODE    0\n",
              "X_1             0\n",
              "X_2             0\n",
              "X_3             0\n",
              "               ..\n",
              "X_929           1\n",
              "X_930           1\n",
              "X_931           1\n",
              "X_932           1\n",
              "X_933           1\n",
              "Length: 673, dtype: int64"
            ]
          },
          "metadata": {},
          "execution_count": 102
        }
      ],
      "source": [
        "# train 결측값 확인하기\n",
        "\n",
        "train_x.isnull().sum()"
      ],
      "id": "7Ye2bRAyqN_E"
    },
    {
      "cell_type": "code",
      "source": [
        "train_x = train_x.dropna(axis=1,thresh=len(train_x)/2)\n",
        "\n",
        "# Columns in test data that are not present in train data\n",
        "# train data에 맞춰서 test data의 column도 정리해주기.\n",
        "cols_to_drop = [col for col in t14_test_x.columns if col not in train_x.columns]\n",
        "\n",
        "# Drop the columns\n",
        "t14_test_x.drop(columns=cols_to_drop, inplace=True)"
      ],
      "metadata": {
        "id": "EBqeKiOyqN_G"
      },
      "execution_count": null,
      "outputs": [],
      "id": "EBqeKiOyqN_G"
    },
    {
      "cell_type": "code",
      "source": [
        "# 결측치 threshold 안 넘는 열 채우기\n",
        "# 일단 중앙값으로 해봅시다. 별로면 KNN\n",
        "\n",
        "train_median = train_x.median()\n",
        "\n",
        "train_x = train_x.fillna(train_median)\n",
        "t14_test_x = t14_test_x.fillna(train_median)"
      ],
      "metadata": {
        "id": "GZ3_1rVEqN_G"
      },
      "execution_count": null,
      "outputs": [],
      "id": "GZ3_1rVEqN_G"
    },
    {
      "cell_type": "markdown",
      "source": [
        "#### Debugging"
      ],
      "metadata": {
        "id": "WiYaK218toUL"
      },
      "id": "WiYaK218toUL"
    },
    {
      "cell_type": "code",
      "source": [
        "########################### DEBUG ########################################\n",
        "\n",
        "if (train_x.isnull().any().any() or t14_test_x.isnull().any().any()):\n",
        "  print('missing value check again')\n",
        "\n",
        "if (len(train_x.columns) != len(t14_test_x.columns)):\n",
        "  print('column # check again')"
      ],
      "metadata": {
        "id": "hYr3bVfiqN_H"
      },
      "execution_count": null,
      "outputs": [],
      "id": "hYr3bVfiqN_H"
    },
    {
      "cell_type": "markdown",
      "source": [
        "#### Feature selection\n",
        "일단 지금은 UFS방식, 성능 올리려면 좀 더 복잡한 거 써야된다 !!"
      ],
      "metadata": {
        "id": "31ZpdIthqN_I"
      },
      "id": "31ZpdIthqN_I"
    },
    {
      "cell_type": "code",
      "source": [
        "from sklearn.feature_selection import SelectKBest, f_regression\n",
        "\n",
        "# the number of top features to select. \n",
        "SELECT_FEATURE = 100\n",
        "\n",
        "# Apply UFS to the training data\n",
        "selector = SelectKBest(f_regression, k=SELECT_FEATURE)\n",
        "\n",
        "# Apply the same UFS to the test data\n",
        "t14_train_new = selector.fit_transform(train_x, t14_train_y)\n",
        "t14_test_new = selector.transform(t14_test_x)"
      ],
      "metadata": {
        "colab": {
          "base_uri": "https://localhost:8080/"
        },
        "outputId": "d9a6e444-6173-494c-ff69-81ea0eed1f14",
        "id": "qWJKbi94qN_I"
      },
      "execution_count": null,
      "outputs": [
        {
          "output_type": "stream",
          "name": "stderr",
          "text": [
            "/usr/local/lib/python3.8/dist-packages/sklearn/feature_selection/_univariate_selection.py:284: RuntimeWarning: invalid value encountered in sqrt\n",
            "  X_norms = np.sqrt(row_norms(X.T, squared=True) - n_samples * X_means ** 2)\n",
            "/usr/local/lib/python3.8/dist-packages/sklearn/feature_selection/_univariate_selection.py:289: RuntimeWarning: divide by zero encountered in true_divide\n",
            "  correlation_coefficient /= X_norms\n",
            "/usr/local/lib/python3.8/dist-packages/sklearn/feature_selection/_univariate_selection.py:289: RuntimeWarning: invalid value encountered in true_divide\n",
            "  correlation_coefficient /= X_norms\n",
            "/usr/local/lib/python3.8/dist-packages/sklearn/feature_selection/_univariate_selection.py:358: RuntimeWarning: invalid value encountered in true_divide\n",
            "  f_statistic = corr_coef_squared / (1 - corr_coef_squared) * deg_of_freedom\n"
          ]
        }
      ],
      "id": "qWJKbi94qN_I"
    },
    {
      "cell_type": "markdown",
      "source": [
        "### 4. Line **T100306(t16)** data preprocessing\n"
      ],
      "metadata": {
        "id": "soad2IyOqe6p"
      },
      "id": "soad2IyOqe6p"
    },
    {
      "cell_type": "markdown",
      "source": [
        "#### Divide dataframe and Fill in missing values"
      ],
      "metadata": {
        "id": "QiOKKggsqe6q"
      },
      "id": "QiOKKggsqe6q"
    },
    {
      "cell_type": "code",
      "execution_count": null,
      "metadata": {
        "id": "MvBKvb0Zqe6r"
      },
      "outputs": [],
      "source": [
        "train_x = t16_df.drop(columns=['PRODUCT_ID', 'TIMESTAMP', 'Y_Class', 'Y_Quality'])\n",
        "t16_train_y = t16_df['Y_Class']\n",
        "\n",
        "t16_test_x = test16_df.drop(columns=['PRODUCT_ID', 'TIMESTAMP'])"
      ],
      "id": "MvBKvb0Zqe6r"
    },
    {
      "cell_type": "code",
      "execution_count": null,
      "metadata": {
        "colab": {
          "base_uri": "https://localhost:8080/"
        },
        "outputId": "9aba3514-3b34-440b-a921-547949d9a7de",
        "id": "vK1K3Z94qe6s"
      },
      "outputs": [
        {
          "output_type": "stream",
          "name": "stdout",
          "text": [
            "Done.\n"
          ]
        }
      ],
      "source": [
        "# qualitative to quantitative\n",
        "# 각 생산라인과 상품코드를 integer encoding\n",
        "\n",
        "qual_col = ['LINE', 'PRODUCT_CODE']\n",
        "\n",
        "for i in qual_col:\n",
        "    le = LabelEncoder()\n",
        "    le = le.fit(train_x[i])\n",
        "    train_x[i] = le.transform(train_x[i])\n",
        "    \n",
        "    for label in np.unique(t16_test_x[i]): \n",
        "        if label not in le.classes_: \n",
        "            le.classes_ = np.append(le.classes_, label)\n",
        "    t16_test_x[i] = le.transform(t16_test_x[i]) \n",
        "print('Done.')"
      ],
      "id": "vK1K3Z94qe6s"
    },
    {
      "cell_type": "code",
      "execution_count": null,
      "metadata": {
        "colab": {
          "base_uri": "https://localhost:8080/"
        },
        "id": "j2RH6vE7qe6t",
        "outputId": "ceb29995-3ee5-44d9-e438-e1361fe94160"
      },
      "outputs": [
        {
          "output_type": "execute_result",
          "data": {
            "text/plain": [
              "LINE            0\n",
              "PRODUCT_CODE    0\n",
              "X_1             0\n",
              "X_2             0\n",
              "X_3             0\n",
              "               ..\n",
              "X_929           0\n",
              "X_930           0\n",
              "X_931           0\n",
              "X_932           0\n",
              "X_933           0\n",
              "Length: 673, dtype: int64"
            ]
          },
          "metadata": {},
          "execution_count": 111
        }
      ],
      "source": [
        "# train 결측값 확인하기\n",
        "train_x.isnull().sum()"
      ],
      "id": "j2RH6vE7qe6t"
    },
    {
      "cell_type": "code",
      "source": [
        "# 일단 결측치 39개있는 열도 지우고 성능 별로면 넣어보기\n",
        "\n",
        "train_x = train_x.dropna(axis=1,thresh=len(train_x)/2)\n",
        "\n",
        "# Columns in test data that are not present in train data\n",
        "# train data에 맞춰서 test data의 column도 정리해주기.\n",
        "cols_to_drop = [col for col in t16_test_x.columns if col not in train_x.columns]\n",
        "\n",
        "# Drop the columns\n",
        "t16_test_x.drop(columns=cols_to_drop, inplace=True)"
      ],
      "metadata": {
        "id": "zblJ92Saqe6v"
      },
      "execution_count": null,
      "outputs": [],
      "id": "zblJ92Saqe6v"
    },
    {
      "cell_type": "code",
      "source": [
        "# 결측치 threshold 안 넘는 열 채우기\n",
        "# 일단 중앙값으로 해봅시다. 별로면 KNN\n",
        "\n",
        "train_median = train_x.median()\n",
        "\n",
        "train_x = train_x.fillna(train_median)\n",
        "t16_test_x = t16_test_x.fillna(train_median)"
      ],
      "metadata": {
        "id": "0ALhaKQaqe6v"
      },
      "execution_count": null,
      "outputs": [],
      "id": "0ALhaKQaqe6v"
    },
    {
      "cell_type": "markdown",
      "source": [
        "#### Debugging"
      ],
      "metadata": {
        "id": "kdhtboEItr_m"
      },
      "id": "kdhtboEItr_m"
    },
    {
      "cell_type": "code",
      "source": [
        "########################### DEBUG ########################################\n",
        "\n",
        "if (train_x.isnull().any().any() or t16_test_x.isnull().any().any()):\n",
        "  print('missing value check again')\n",
        "\n",
        "if (len(train_x.columns) != len(t16_test_x.columns)):\n",
        "  print('column # check again')"
      ],
      "metadata": {
        "id": "AX305BG4qe6w"
      },
      "execution_count": null,
      "outputs": [],
      "id": "AX305BG4qe6w"
    },
    {
      "cell_type": "markdown",
      "source": [
        "#### Feature selection\n",
        "일단 지금은 UFS방식, 성능 올리려면 좀 더 복잡한 거 써야된다 !!"
      ],
      "metadata": {
        "id": "2_U1Pb9aqe6x"
      },
      "id": "2_U1Pb9aqe6x"
    },
    {
      "cell_type": "code",
      "source": [
        "from sklearn.feature_selection import SelectKBest, f_regression\n",
        "\n",
        "# the number of top features to select. \n",
        "SELECT_FEATURE = 100\n",
        "\n",
        "# Apply UFS to the training data\n",
        "selector = SelectKBest(f_regression, k=SELECT_FEATURE)\n",
        "\n",
        "# Apply the same UFS to the test data\n",
        "t16_train_new = selector.fit_transform(train_x, t16_train_y)\n",
        "t16_test_new = selector.transform(t16_test_x)"
      ],
      "metadata": {
        "colab": {
          "base_uri": "https://localhost:8080/"
        },
        "outputId": "16710e6a-efac-42a2-9a9f-172c1d047567",
        "id": "VnNVoBhYqe6x"
      },
      "execution_count": null,
      "outputs": [
        {
          "output_type": "stream",
          "name": "stderr",
          "text": [
            "/usr/local/lib/python3.8/dist-packages/sklearn/feature_selection/_univariate_selection.py:284: RuntimeWarning: invalid value encountered in sqrt\n",
            "  X_norms = np.sqrt(row_norms(X.T, squared=True) - n_samples * X_means ** 2)\n",
            "/usr/local/lib/python3.8/dist-packages/sklearn/feature_selection/_univariate_selection.py:289: RuntimeWarning: divide by zero encountered in true_divide\n",
            "  correlation_coefficient /= X_norms\n",
            "/usr/local/lib/python3.8/dist-packages/sklearn/feature_selection/_univariate_selection.py:289: RuntimeWarning: invalid value encountered in true_divide\n",
            "  correlation_coefficient /= X_norms\n",
            "/usr/local/lib/python3.8/dist-packages/sklearn/feature_selection/_univariate_selection.py:358: RuntimeWarning: invalid value encountered in true_divide\n",
            "  f_statistic = corr_coef_squared / (1 - corr_coef_squared) * deg_of_freedom\n"
          ]
        }
      ],
      "id": "VnNVoBhYqe6x"
    },
    {
      "cell_type": "markdown",
      "source": [
        "### 5. Line **T010306(t06)** data preprocessing\n"
      ],
      "metadata": {
        "id": "ne6JGrrMqjra"
      },
      "id": "ne6JGrrMqjra"
    },
    {
      "cell_type": "markdown",
      "source": [
        "#### Divide dataframe and Fill in missing values"
      ],
      "metadata": {
        "id": "15E6deJhqjrb"
      },
      "id": "15E6deJhqjrb"
    },
    {
      "cell_type": "code",
      "execution_count": null,
      "metadata": {
        "id": "T--jKisgqjrc"
      },
      "outputs": [],
      "source": [
        "train_x = t06_df.drop(columns=['PRODUCT_ID', 'TIMESTAMP', 'Y_Class', 'Y_Quality'])\n",
        "t06_train_y = t06_df['Y_Class']\n",
        "\n",
        "t06_test_x = test06_df.drop(columns=['PRODUCT_ID', 'TIMESTAMP'])"
      ],
      "id": "T--jKisgqjrc"
    },
    {
      "cell_type": "code",
      "execution_count": null,
      "metadata": {
        "colab": {
          "base_uri": "https://localhost:8080/"
        },
        "outputId": "50ecb4b6-3adc-4669-9d07-3d6d9e2aeb45",
        "id": "rKTPZ0COqjrd"
      },
      "outputs": [
        {
          "output_type": "stream",
          "name": "stdout",
          "text": [
            "Done.\n"
          ]
        }
      ],
      "source": [
        "# qualitative to quantitative\n",
        "# 각 생산라인과 상품코드를 integer encoding\n",
        "\n",
        "qual_col = ['LINE', 'PRODUCT_CODE']\n",
        "\n",
        "for i in qual_col:\n",
        "    le = LabelEncoder()\n",
        "    le = le.fit(train_x[i])\n",
        "    train_x[i] = le.transform(train_x[i])\n",
        "    \n",
        "    for label in np.unique(t06_test_x[i]): \n",
        "        if label not in le.classes_: \n",
        "            le.classes_ = np.append(le.classes_, label)\n",
        "    t06_test_x[i] = le.transform(t06_test_x[i]) \n",
        "print('Done.')"
      ],
      "id": "rKTPZ0COqjrd"
    },
    {
      "cell_type": "code",
      "execution_count": null,
      "metadata": {
        "colab": {
          "base_uri": "https://localhost:8080/"
        },
        "id": "FhALBt8fqjre",
        "outputId": "b1bfd61a-bf22-4696-d595-db1b1139485f"
      },
      "outputs": [
        {
          "output_type": "execute_result",
          "data": {
            "text/plain": [
              "LINE            0\n",
              "PRODUCT_CODE    0\n",
              "X_246           0\n",
              "X_247           0\n",
              "X_248           0\n",
              "               ..\n",
              "X_2861          0\n",
              "X_2862          0\n",
              "X_2863          0\n",
              "X_2864          0\n",
              "X_2865          0\n",
              "Length: 888, dtype: int64"
            ]
          },
          "metadata": {},
          "execution_count": 119
        }
      ],
      "source": [
        "# train 결측값 확인하기\n",
        "\n",
        "train_x.isnull().sum()"
      ],
      "id": "FhALBt8fqjre"
    },
    {
      "cell_type": "code",
      "source": [
        "# 일단 결측치 39개있는 열도 지우고 성능 별로면 넣어보기\n",
        "\n",
        "train_x = train_x.dropna(axis=1,thresh=len(train_x)/2)\n",
        "\n",
        "# Columns in test data that are not present in train data\n",
        "# train data에 맞춰서 test data의 column도 정리해주기.\n",
        "cols_to_drop = [col for col in t06_test_x.columns if col not in train_x.columns]\n",
        "\n",
        "# Drop the columns\n",
        "t06_test_x.drop(columns=cols_to_drop, inplace=True)"
      ],
      "metadata": {
        "id": "GgJmHYMqqjrg"
      },
      "execution_count": null,
      "outputs": [],
      "id": "GgJmHYMqqjrg"
    },
    {
      "cell_type": "code",
      "source": [
        "# 결측치 threshold 안 넘는 열 채우기\n",
        "# 일단 중앙값으로 해봅시다. 별로면 KNN\n",
        "\n",
        "train_median = train_x.median()\n",
        "\n",
        "train_x = train_x.fillna(train_median)\n",
        "t06_test_x = t06_test_x.fillna(train_median)"
      ],
      "metadata": {
        "id": "x1pmwURKqjrg"
      },
      "execution_count": null,
      "outputs": [],
      "id": "x1pmwURKqjrg"
    },
    {
      "cell_type": "markdown",
      "source": [
        "#### Debugging"
      ],
      "metadata": {
        "id": "BemeHpWxtv1I"
      },
      "id": "BemeHpWxtv1I"
    },
    {
      "cell_type": "code",
      "source": [
        "########################### DEBUG ########################################\n",
        "\n",
        "if (train_x.isnull().any().any() or t06_test_x.isnull().any().any()):\n",
        "  print('missing value check again')\n",
        "\n",
        "if (len(train_x.columns) != len(t06_test_x.columns)):\n",
        "  print('column # check again')"
      ],
      "metadata": {
        "id": "0tmGT6ILqjrh"
      },
      "execution_count": null,
      "outputs": [],
      "id": "0tmGT6ILqjrh"
    },
    {
      "cell_type": "markdown",
      "source": [
        "#### Feature selection\n",
        "일단 지금은 UFS방식, 성능 올리려면 좀 더 복잡한 거 써야된다 !!"
      ],
      "metadata": {
        "id": "3ZTryKrhqjri"
      },
      "id": "3ZTryKrhqjri"
    },
    {
      "cell_type": "code",
      "source": [
        "from sklearn.feature_selection import SelectKBest, f_regression\n",
        "\n",
        "# the number of top features to select. \n",
        "SELECT_FEATURE = 100\n",
        "\n",
        "# Apply UFS to the training data\n",
        "selector = SelectKBest(f_regression, k=SELECT_FEATURE)\n",
        "\n",
        "# Apply the same UFS to the test data\n",
        "t06_train_new = selector.fit_transform(train_x, t06_train_y)\n",
        "t06_test_new = selector.transform(t06_test_x)"
      ],
      "metadata": {
        "colab": {
          "base_uri": "https://localhost:8080/"
        },
        "outputId": "624baac7-cbb7-479c-c599-ecc58e25280c",
        "id": "djFtDpWYqjrj"
      },
      "execution_count": null,
      "outputs": [
        {
          "output_type": "stream",
          "name": "stderr",
          "text": [
            "/usr/local/lib/python3.8/dist-packages/sklearn/feature_selection/_univariate_selection.py:284: RuntimeWarning: invalid value encountered in sqrt\n",
            "  X_norms = np.sqrt(row_norms(X.T, squared=True) - n_samples * X_means ** 2)\n",
            "/usr/local/lib/python3.8/dist-packages/sklearn/feature_selection/_univariate_selection.py:289: RuntimeWarning: divide by zero encountered in true_divide\n",
            "  correlation_coefficient /= X_norms\n",
            "/usr/local/lib/python3.8/dist-packages/sklearn/feature_selection/_univariate_selection.py:289: RuntimeWarning: invalid value encountered in true_divide\n",
            "  correlation_coefficient /= X_norms\n",
            "/usr/local/lib/python3.8/dist-packages/sklearn/feature_selection/_univariate_selection.py:358: RuntimeWarning: invalid value encountered in true_divide\n",
            "  f_statistic = corr_coef_squared / (1 - corr_coef_squared) * deg_of_freedom\n"
          ]
        }
      ],
      "id": "djFtDpWYqjrj"
    },
    {
      "cell_type": "markdown",
      "source": [
        "### 6. Line **T010305(t05)** data preprocessing\n"
      ],
      "metadata": {
        "id": "6l9-mIAZqs2s"
      },
      "id": "6l9-mIAZqs2s"
    },
    {
      "cell_type": "markdown",
      "source": [
        "#### Divide dataframe and Fill in missing values"
      ],
      "metadata": {
        "id": "ujzSnxoKqs2u"
      },
      "id": "ujzSnxoKqs2u"
    },
    {
      "cell_type": "code",
      "execution_count": null,
      "metadata": {
        "id": "ppdFn6Y5qs2u"
      },
      "outputs": [],
      "source": [
        "train_x = t05_df.drop(columns=['PRODUCT_ID', 'TIMESTAMP', 'Y_Class', 'Y_Quality'])\n",
        "t05_train_y = t05_df['Y_Class']\n",
        "\n",
        "t05_test_x = test05_df.drop(columns=['PRODUCT_ID', 'TIMESTAMP'])"
      ],
      "id": "ppdFn6Y5qs2u"
    },
    {
      "cell_type": "code",
      "execution_count": null,
      "metadata": {
        "colab": {
          "base_uri": "https://localhost:8080/"
        },
        "outputId": "e1977ffb-1546-4c0b-b1f2-405c8f925df3",
        "id": "BMAmcJY4qs2v"
      },
      "outputs": [
        {
          "output_type": "stream",
          "name": "stdout",
          "text": [
            "Done.\n"
          ]
        }
      ],
      "source": [
        "# qualitative to quantitative\n",
        "# 각 생산라인과 상품코드를 integer encoding\n",
        "\n",
        "qual_col = ['LINE', 'PRODUCT_CODE']\n",
        "\n",
        "for i in qual_col:\n",
        "    le = LabelEncoder()\n",
        "    le = le.fit(train_x[i])\n",
        "    train_x[i] = le.transform(train_x[i])\n",
        "    \n",
        "    for label in np.unique(t05_test_x[i]): \n",
        "        if label not in le.classes_: \n",
        "            le.classes_ = np.append(le.classes_, label)\n",
        "    t05_test_x[i] = le.transform(t05_test_x[i]) \n",
        "print('Done.')"
      ],
      "id": "BMAmcJY4qs2v"
    },
    {
      "cell_type": "code",
      "execution_count": null,
      "metadata": {
        "colab": {
          "base_uri": "https://localhost:8080/"
        },
        "id": "ePXEI61cqs2x",
        "outputId": "d8136ba7-c62f-44ac-8716-12b5dd35b53d"
      },
      "outputs": [
        {
          "output_type": "execute_result",
          "data": {
            "text/plain": [
              "LINE            0\n",
              "PRODUCT_CODE    0\n",
              "X_246           0\n",
              "X_247           0\n",
              "X_248           0\n",
              "               ..\n",
              "X_2861          0\n",
              "X_2862          0\n",
              "X_2863          0\n",
              "X_2864          0\n",
              "X_2865          0\n",
              "Length: 888, dtype: int64"
            ]
          },
          "metadata": {},
          "execution_count": 127
        }
      ],
      "source": [
        "# train 결측값 확인하기\n",
        "\n",
        "train_x.isnull().sum()"
      ],
      "id": "ePXEI61cqs2x"
    },
    {
      "cell_type": "code",
      "source": [
        "train_x = train_x.dropna(axis=1,thresh=len(train_x)/2)\n",
        "\n",
        "# Columns in test data that are not present in train data\n",
        "# train data에 맞춰서 test data의 column도 정리해주기.\n",
        "cols_to_drop = [col for col in t05_test_x.columns if col not in train_x.columns]\n",
        "\n",
        "# Drop the columns\n",
        "t05_test_x.drop(columns=cols_to_drop, inplace=True)"
      ],
      "metadata": {
        "id": "1GULF6YLqs2y"
      },
      "execution_count": null,
      "outputs": [],
      "id": "1GULF6YLqs2y"
    },
    {
      "cell_type": "code",
      "source": [
        "# 결측치 threshold 안 넘는 열 채우기\n",
        "# 일단 중앙값으로 해봅시다. 별로면 KNN\n",
        "\n",
        "train_median = train_x.median()\n",
        "\n",
        "train_x = train_x.fillna(train_median)\n",
        "t05_test_x = t05_test_x.fillna(train_median)"
      ],
      "metadata": {
        "id": "zaN3EG3Qqs2z"
      },
      "execution_count": null,
      "outputs": [],
      "id": "zaN3EG3Qqs2z"
    },
    {
      "cell_type": "markdown",
      "source": [
        "#### Debugging"
      ],
      "metadata": {
        "id": "AGj5teytty8y"
      },
      "id": "AGj5teytty8y"
    },
    {
      "cell_type": "code",
      "source": [
        "########################### DEBUG ########################################\n",
        "\n",
        "if (train_x.isnull().any().any() or t05_test_x.isnull().any().any()):\n",
        "  print('missing value check again')\n",
        "\n",
        "if (len(train_x.columns) != len(t05_test_x.columns)):\n",
        "  print('column # check again')"
      ],
      "metadata": {
        "id": "eKLH1WXzqs2z"
      },
      "execution_count": null,
      "outputs": [],
      "id": "eKLH1WXzqs2z"
    },
    {
      "cell_type": "markdown",
      "source": [
        "#### Feature selection\n",
        "일단 지금은 UFS방식, 성능 올리려면 좀 더 복잡한 거 써야된다 !!"
      ],
      "metadata": {
        "id": "CQD3GMEiqs20"
      },
      "id": "CQD3GMEiqs20"
    },
    {
      "cell_type": "code",
      "source": [
        "from sklearn.feature_selection import SelectKBest, f_regression\n",
        "\n",
        "# the number of top features to select. \n",
        "SELECT_FEATURE = 100\n",
        "\n",
        "# Apply UFS to the training data\n",
        "selector = SelectKBest(f_regression, k=SELECT_FEATURE)\n",
        "\n",
        "# Apply the same UFS to the test data\n",
        "t05_train_new = selector.fit_transform(train_x, t05_train_y)\n",
        "t05_test_new = selector.transform(t05_test_x)"
      ],
      "metadata": {
        "colab": {
          "base_uri": "https://localhost:8080/"
        },
        "outputId": "c4c63d2f-1cb5-45bf-925b-48e9534d6185",
        "id": "tA5hDh1Cqs20"
      },
      "execution_count": null,
      "outputs": [
        {
          "output_type": "stream",
          "name": "stderr",
          "text": [
            "/usr/local/lib/python3.8/dist-packages/sklearn/feature_selection/_univariate_selection.py:289: RuntimeWarning: divide by zero encountered in true_divide\n",
            "  correlation_coefficient /= X_norms\n",
            "/usr/local/lib/python3.8/dist-packages/sklearn/feature_selection/_univariate_selection.py:289: RuntimeWarning: invalid value encountered in true_divide\n",
            "  correlation_coefficient /= X_norms\n",
            "/usr/local/lib/python3.8/dist-packages/sklearn/feature_selection/_univariate_selection.py:358: RuntimeWarning: invalid value encountered in true_divide\n",
            "  f_statistic = corr_coef_squared / (1 - corr_coef_squared) * deg_of_freedom\n"
          ]
        }
      ],
      "id": "tA5hDh1Cqs20"
    },
    {
      "cell_type": "markdown",
      "id": "5fec6b34-1e64-4d20-afdd-e96f4f77fa31",
      "metadata": {
        "id": "5fec6b34-1e64-4d20-afdd-e96f4f77fa31"
      },
      "source": [
        "## Classification Model Fit"
      ]
    },
    {
      "cell_type": "markdown",
      "source": [
        "먼저 fit하고 XAI로 접근해서 X 변수 해석하기"
      ],
      "metadata": {
        "id": "SA76tTUqBdYS"
      },
      "id": "SA76tTUqBdYS"
    },
    {
      "cell_type": "code",
      "execution_count": null,
      "id": "c6ca77bc-154c-4cb3-9251-3fe45d671416",
      "metadata": {
        "colab": {
          "base_uri": "https://localhost:8080/"
        },
        "id": "c6ca77bc-154c-4cb3-9251-3fe45d671416",
        "outputId": "48a26c70-1f2f-4398-82d2-77c7459c5a3e"
      },
      "outputs": [
        {
          "output_type": "stream",
          "name": "stdout",
          "text": [
            "Done.\n"
          ]
        }
      ],
      "source": [
        "RF04 = RandomForestClassifier(random_state=37).fit(t04_train_new, t04_train_y)\n",
        "RF07 = RandomForestClassifier(random_state=37).fit(t07_train_new, t07_train_y)\n",
        "RF14 = RandomForestClassifier(random_state=37).fit(t14_train_new, t14_train_y)\n",
        "RF16 = RandomForestClassifier(random_state=37).fit(t16_train_new, t16_train_y)\n",
        "RF06 = RandomForestClassifier(random_state=37).fit(t06_train_new, t06_train_y)\n",
        "RF05 = RandomForestClassifier(random_state=37).fit(t05_train_new, t05_train_y)\n",
        "print('Done.')"
      ]
    },
    {
      "cell_type": "markdown",
      "id": "74ddaa38-bd6e-47d2-82d3-c000f188886a",
      "metadata": {
        "id": "74ddaa38-bd6e-47d2-82d3-c000f188886a"
      },
      "source": [
        "## Inference"
      ]
    },
    {
      "cell_type": "markdown",
      "source": [
        "Y_Quality 값으로 오차 보정하기."
      ],
      "metadata": {
        "id": "BOHiZ0ZpnG8x"
      },
      "id": "BOHiZ0ZpnG8x"
    },
    {
      "cell_type": "code",
      "execution_count": null,
      "id": "33b68656-3d7d-4221-b508-24d0d7622179",
      "metadata": {
        "colab": {
          "base_uri": "https://localhost:8080/"
        },
        "id": "33b68656-3d7d-4221-b508-24d0d7622179",
        "outputId": "033a86bc-d2f1-452b-f351-7b12bfbf28ff"
      },
      "outputs": [
        {
          "output_type": "stream",
          "name": "stdout",
          "text": [
            "Done.\n"
          ]
        }
      ],
      "source": [
        "t04_preds = RF04.predict(t04_test_new)\n",
        "t07_preds = RF07.predict(t07_test_new)\n",
        "t14_preds = RF14.predict(t14_test_new)\n",
        "t16_preds = RF16.predict(t16_test_new)\n",
        "t06_preds = RF06.predict(t06_test_new)\n",
        "t05_preds = RF05.predict(t05_test_new)\n",
        "print('Done.')"
      ]
    },
    {
      "cell_type": "markdown",
      "id": "d97cf38e-2062-4645-9095-2ebac375711e",
      "metadata": {
        "id": "d97cf38e-2062-4645-9095-2ebac375711e"
      },
      "source": [
        "## Submit"
      ]
    },
    {
      "cell_type": "code",
      "execution_count": null,
      "id": "20c5e156-d7c4-400f-b552-0bb86ebfd3e3",
      "metadata": {
        "id": "20c5e156-d7c4-400f-b552-0bb86ebfd3e3"
      },
      "outputs": [],
      "source": [
        "submit = pd.read_csv('./sample_submission.csv')"
      ]
    },
    {
      "cell_type": "code",
      "source": [
        "submit['Y_Class'].iloc[t05_test_x.index[0]]"
      ],
      "metadata": {
        "colab": {
          "base_uri": "https://localhost:8080/"
        },
        "id": "N8aJKLWWgp3a",
        "outputId": "71451fbe-6604-4ff5-f484-799c27f22210"
      },
      "id": "N8aJKLWWgp3a",
      "execution_count": null,
      "outputs": [
        {
          "output_type": "execute_result",
          "data": {
            "text/plain": [
              "0"
            ]
          },
          "metadata": {},
          "execution_count": 136
        }
      ]
    },
    {
      "cell_type": "code",
      "execution_count": null,
      "id": "5b869ab6-6852-45a1-bc75-39dee40b583f",
      "metadata": {
        "id": "5b869ab6-6852-45a1-bc75-39dee40b583f",
        "colab": {
          "base_uri": "https://localhost:8080/"
        },
        "outputId": "971c79d8-da8a-4163-a785-1318f7760340"
      },
      "outputs": [
        {
          "output_type": "stream",
          "name": "stderr",
          "text": [
            "/usr/local/lib/python3.8/dist-packages/pandas/core/indexing.py:1732: SettingWithCopyWarning: \n",
            "A value is trying to be set on a copy of a slice from a DataFrame\n",
            "\n",
            "See the caveats in the documentation: https://pandas.pydata.org/pandas-docs/stable/user_guide/indexing.html#returning-a-view-versus-a-copy\n",
            "  self._setitem_single_block(indexer, value, name)\n"
          ]
        }
      ],
      "source": [
        "# 각 데이터에 맞는 위치로 예측값 할당.\n",
        "for i in range(len(t04_test_x.index)):\n",
        "  submit['Y_Class'].iloc[t04_test_x.index[i]] = t04_preds[i]\n",
        "\n",
        "for i in range(len(t07_test_x.index)):\n",
        "  submit['Y_Class'].iloc[t07_test_x.index[i]] = t07_preds[i]\n",
        "\n",
        "for i in range(len(t14_test_x.index)):\n",
        "  submit['Y_Class'].iloc[t14_test_x.index[i]] = t14_preds[i]\n",
        "\n",
        "for i in range(len(t16_test_x.index)):\n",
        "  submit['Y_Class'].iloc[t16_test_x.index[i]] = t16_preds[i]\n",
        "\n",
        "for i in range(len(t06_test_x.index)):\n",
        "  submit['Y_Class'].iloc[t06_test_x.index[i]] = t06_preds[i]\n",
        "\n",
        "for i in range(len(t05_test_x.index)):\n",
        "  submit['Y_Class'].iloc[t05_test_x.index[i]] = t05_preds[i]"
      ]
    },
    {
      "cell_type": "code",
      "execution_count": null,
      "id": "026b00cd-5680-4bf2-b7f8-0bea6ae8299e",
      "metadata": {
        "tags": [],
        "id": "026b00cd-5680-4bf2-b7f8-0bea6ae8299e"
      },
      "outputs": [],
      "source": [
        "submit.to_csv('./baseline_submission.csv', index=False)"
      ]
    }
  ],
  "metadata": {
    "kernelspec": {
      "display_name": "Python 3",
      "language": "python",
      "name": "python3"
    },
    "language_info": {
      "codemirror_mode": {
        "name": "ipython",
        "version": 3
      },
      "file_extension": ".py",
      "mimetype": "text/x-python",
      "name": "python",
      "nbconvert_exporter": "python",
      "pygments_lexer": "ipython3",
      "version": "3.8.3"
    },
    "colab": {
      "provenance": [],
      "collapsed_sections": [
        "oE-QTk3cqJys",
        "e8gPcGUGqN-_",
        "soad2IyOqe6p",
        "ne6JGrrMqjra",
        "6l9-mIAZqs2s"
      ],
      "toc_visible": true,
      "include_colab_link": true
    },
    "gpuClass": "premium"
  },
  "nbformat": 4,
  "nbformat_minor": 5
}