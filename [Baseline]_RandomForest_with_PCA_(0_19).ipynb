{
  "cells": [
    {
      "cell_type": "markdown",
      "metadata": {
        "id": "view-in-github",
        "colab_type": "text"
      },
      "source": [
        "<a href=\"https://colab.research.google.com/github/h-wi/lg-aimers-hackathon/blob/main/%5BBaseline%5D_RandomForest_with_PCA_(0_19).ipynb\" target=\"_parent\"><img src=\"https://colab.research.google.com/assets/colab-badge.svg\" alt=\"Open In Colab\"/></a>"
      ]
    },
    {
      "cell_type": "markdown",
      "id": "273b75f6-25fa-4f9c-8c9d-fa33a985f2dd",
      "metadata": {
        "id": "273b75f6-25fa-4f9c-8c9d-fa33a985f2dd"
      },
      "source": [
        "## Import"
      ]
    },
    {
      "cell_type": "code",
      "execution_count": null,
      "id": "5c415d9d-1111-46ed-bc2d-849c75ab962a",
      "metadata": {
        "id": "5c415d9d-1111-46ed-bc2d-849c75ab962a"
      },
      "outputs": [],
      "source": [
        "import pandas as pd\n",
        "import random\n",
        "import os\n",
        "import numpy as np\n",
        "\n",
        "from sklearn.preprocessing import LabelEncoder\n",
        "from sklearn.ensemble import RandomForestClassifier"
      ]
    },
    {
      "cell_type": "code",
      "execution_count": null,
      "id": "edae871a-b31b-4f06-bb88-0fd1f6660b13",
      "metadata": {
        "id": "edae871a-b31b-4f06-bb88-0fd1f6660b13"
      },
      "outputs": [],
      "source": [
        "def seed_everything(seed):\n",
        "    random.seed(seed)\n",
        "    os.environ['PYTHONHASHSEED'] = str(seed)\n",
        "    np.random.seed(seed)\n",
        "seed_everything(37) # Seed 고정"
      ]
    },
    {
      "cell_type": "code",
      "source": [
        "from google.colab import drive\n",
        "drive.mount('/content/drive')"
      ],
      "metadata": {
        "colab": {
          "base_uri": "https://localhost:8080/"
        },
        "id": "vePq4yta96aA",
        "outputId": "4ac70793-4703-4aa5-b494-dbd0ab085142"
      },
      "id": "vePq4yta96aA",
      "execution_count": null,
      "outputs": [
        {
          "output_type": "stream",
          "name": "stdout",
          "text": [
            "Mounted at /content/drive\n"
          ]
        }
      ]
    },
    {
      "cell_type": "markdown",
      "id": "119f9c1c-39bc-42e7-a00d-3062d11b4f1e",
      "metadata": {
        "id": "119f9c1c-39bc-42e7-a00d-3062d11b4f1e"
      },
      "source": [
        "## Data Load"
      ]
    },
    {
      "cell_type": "markdown",
      "source": [
        "A. Y_Quality 무시하고 그냥 Y_Class 예측 모형 만들기\n",
        "\n",
        "**B. Y_Quality를 예측하고 Spec 범위를 활용해서 Y_Class를 생성하기**\n",
        "\n",
        "C. A.와 B.를 모두 활용하기\n",
        "\n"
      ],
      "metadata": {
        "id": "6kXCCnjyBXDK"
      },
      "id": "6kXCCnjyBXDK"
    },
    {
      "cell_type": "code",
      "source": [
        "cd /content/drive/MyDrive/aimers"
      ],
      "metadata": {
        "colab": {
          "base_uri": "https://localhost:8080/"
        },
        "id": "twAoejdz_OMR",
        "outputId": "e5816e84-cc5d-4d2b-9d5c-2c5407dc1b94"
      },
      "id": "twAoejdz_OMR",
      "execution_count": null,
      "outputs": [
        {
          "output_type": "stream",
          "name": "stdout",
          "text": [
            "/content/drive/MyDrive/aimers\n"
          ]
        }
      ]
    },
    {
      "cell_type": "code",
      "execution_count": null,
      "id": "ee76c413-001b-475e-9d1c-6662d25d2db2",
      "metadata": {
        "id": "ee76c413-001b-475e-9d1c-6662d25d2db2"
      },
      "outputs": [],
      "source": [
        "train_df = pd.read_csv('./train.csv')\n",
        "test_df = pd.read_csv('./test.csv')"
      ]
    },
    {
      "cell_type": "code",
      "source": [
        "train_df['LINE'].unique()"
      ],
      "metadata": {
        "colab": {
          "base_uri": "https://localhost:8080/"
        },
        "id": "kYeRLfsYRpUT",
        "outputId": "eb949761-5fbc-47f2-b787-70ecc6482d6a"
      },
      "id": "kYeRLfsYRpUT",
      "execution_count": null,
      "outputs": [
        {
          "output_type": "execute_result",
          "data": {
            "text/plain": [
              "array(['T050304', 'T050307', 'T100304', 'T100306', 'T010306', 'T010305'],\n",
              "      dtype=object)"
            ]
          },
          "metadata": {},
          "execution_count": 6
        }
      ]
    },
    {
      "cell_type": "code",
      "source": [
        "test_df['LINE'].unique()"
      ],
      "metadata": {
        "colab": {
          "base_uri": "https://localhost:8080/"
        },
        "id": "pZzxrzM0x7O4",
        "outputId": "0212e818-3a59-4ba4-a1a3-b5edab182fc8"
      },
      "id": "pZzxrzM0x7O4",
      "execution_count": null,
      "outputs": [
        {
          "output_type": "execute_result",
          "data": {
            "text/plain": [
              "array(['T100306', 'T100304', 'T010305', 'T010306', 'T050304', 'T050307'],\n",
              "      dtype=object)"
            ]
          },
          "metadata": {},
          "execution_count": 7
        }
      ]
    },
    {
      "cell_type": "code",
      "source": [
        "# 생산 LINE별로 쓰이는 변수가 다르므로 생산 LINE별로 DF 구분\n",
        "\n",
        "train_grouped = train_df.groupby('LINE')\n",
        "test_grouped = test_df.groupby('LINE')\n",
        "\n",
        "for name, group in train_grouped:\n",
        "    if name == 'T050304':\n",
        "        t04_df = group.copy()\n",
        "    elif name == 'T050307':\n",
        "        t07_df = group.copy()\n",
        "    elif name == 'T100304':\n",
        "        t14_df = group.copy()\n",
        "    elif name == 'T100306':\n",
        "        t16_df = group.copy()\n",
        "    elif name == 'T010306':\n",
        "        t06_df = group.copy()  \n",
        "    elif name == 'T010305':\n",
        "        t05_df = group.copy()\n",
        "\n",
        "for name, group in test_grouped:\n",
        "    if name == 'T050304':\n",
        "        test04_df = group.copy()\n",
        "    elif name == 'T050307':\n",
        "        test07_df = group.copy()\n",
        "    elif name == 'T100304':\n",
        "        test14_df = group.copy()\n",
        "    elif name == 'T100306':\n",
        "        test16_df = group.copy()\n",
        "    elif name == 'T010306':\n",
        "        test06_df = group.copy()  \n",
        "    elif name == 'T010305':\n",
        "        test05_df = group.copy()"
      ],
      "metadata": {
        "id": "9_Ab5l5oMlTz"
      },
      "id": "9_Ab5l5oMlTz",
      "execution_count": null,
      "outputs": []
    },
    {
      "cell_type": "code",
      "source": [
        "# 각 df에서 값을 갖고 있지 않은 열(결측치만 갖고 있는 열) 모두 삭제\n",
        "# df마다 적합할 모델 만들고 test df도 해당 모델에만 예측가능\n",
        "\n",
        "t04_df = t04_df.dropna(axis=1, how='all')\n",
        "t07_df = t07_df.dropna(axis=1, how='all')\n",
        "t14_df = t14_df.dropna(axis=1, how='all')\n",
        "t16_df = t16_df.dropna(axis=1, how='all')\n",
        "t06_df = t06_df.dropna(axis=1, how='all')\n",
        "t05_df = t05_df.dropna(axis=1, how='all')\n",
        "\n",
        "test04_df = test04_df.dropna(axis=1, how='all')\n",
        "test07_df = test07_df.dropna(axis=1, how='all')\n",
        "test14_df = test14_df.dropna(axis=1, how='all')\n",
        "test16_df = test16_df.dropna(axis=1, how='all')\n",
        "test06_df = test06_df.dropna(axis=1, how='all')\n",
        "test05_df = test05_df.dropna(axis=1, how='all')"
      ],
      "metadata": {
        "id": "MQgOwri5UYfx"
      },
      "id": "MQgOwri5UYfx",
      "execution_count": null,
      "outputs": []
    },
    {
      "cell_type": "code",
      "source": [
        "# 각 LINE별로 잘 모였는지 확인, LINE별 생산하는 제품의 CODE 확인.\n",
        "\n",
        "print(t04_df['LINE'].unique(),t04_df['PRODUCT_CODE'].unique())\n",
        "print(t07_df['LINE'].unique(),t07_df['PRODUCT_CODE'].unique())\n",
        "print(t14_df['LINE'].unique(),t14_df['PRODUCT_CODE'].unique())\n",
        "print(t16_df['LINE'].unique(),t16_df['PRODUCT_CODE'].unique())\n",
        "print(t06_df['LINE'].unique(),t06_df['PRODUCT_CODE'].unique())\n",
        "print(t05_df['LINE'].unique(),t05_df['PRODUCT_CODE'].unique())\n",
        "\n",
        "print('########################################')\n",
        "\n",
        "print(test04_df['LINE'].unique(),test04_df['PRODUCT_CODE'].unique())\n",
        "print(test07_df['LINE'].unique(),test07_df['PRODUCT_CODE'].unique())\n",
        "print(test14_df['LINE'].unique(),test14_df['PRODUCT_CODE'].unique())\n",
        "print(test16_df['LINE'].unique(),test16_df['PRODUCT_CODE'].unique())\n",
        "print(test06_df['LINE'].unique(),test06_df['PRODUCT_CODE'].unique())\n",
        "print(test05_df['LINE'].unique(),test05_df['PRODUCT_CODE'].unique())"
      ],
      "metadata": {
        "colab": {
          "base_uri": "https://localhost:8080/"
        },
        "id": "fe56FxswQfpD",
        "outputId": "6f0723c0-af4b-4602-bca2-f698dd6ac410"
      },
      "id": "fe56FxswQfpD",
      "execution_count": null,
      "outputs": [
        {
          "output_type": "stream",
          "name": "stdout",
          "text": [
            "['T050304'] ['A_31']\n",
            "['T050307'] ['A_31']\n",
            "['T100304'] ['T_31' 'O_31']\n",
            "['T100306'] ['T_31' 'O_31']\n",
            "['T010306'] ['A_31']\n",
            "['T010305'] ['A_31']\n",
            "########################################\n",
            "['T050304'] ['A_31']\n",
            "['T050307'] ['A_31']\n",
            "['T100304'] ['T_31' 'O_31']\n",
            "['T100306'] ['T_31' 'O_31']\n",
            "['T010306'] ['A_31']\n",
            "['T010305'] ['A_31']\n"
          ]
        }
      ]
    },
    {
      "cell_type": "markdown",
      "id": "885f1e6b-97f4-4f90-b3ce-0513b7196db6",
      "metadata": {
        "id": "885f1e6b-97f4-4f90-b3ce-0513b7196db6"
      },
      "source": [
        "## Data Pre-processing"
      ]
    },
    {
      "cell_type": "code",
      "source": [
        "# pandas 전체 행 출력 개수 제한\n",
        "pd.options.display.max_rows = 5000"
      ],
      "metadata": {
        "id": "Cju5uYfiJWDg"
      },
      "id": "Cju5uYfiJWDg",
      "execution_count": null,
      "outputs": []
    },
    {
      "cell_type": "markdown",
      "source": [
        "A. 각 LINE, PRODUCT_CODE별로 데이터를 분할하고 따로 모형 적합하기\n",
        "\n",
        "**필요한 변수만 활용하기 때문에 메모리/연산 효율적\n",
        "각 LINE, PRODUCT_CODE별 모형 최적화 가능**"
      ],
      "metadata": {
        "id": "Vzalno6WBPOR"
      },
      "id": "Vzalno6WBPOR"
    },
    {
      "cell_type": "markdown",
      "source": [
        "### 1. Line **T050304(t04)** data preprocessing\n"
      ],
      "metadata": {
        "id": "qOMHJMuE1smv"
      },
      "id": "qOMHJMuE1smv"
    },
    {
      "cell_type": "markdown",
      "source": [
        "#### Divide dataframe and Fill in missing values\n",
        "\n",
        "Use it https://m.blog.naver.com/tjdrud1323/221720259834"
      ],
      "metadata": {
        "id": "AkaOETy9RBPJ"
      },
      "id": "AkaOETy9RBPJ"
    },
    {
      "cell_type": "code",
      "execution_count": null,
      "id": "ffc6afcd-a059-4c16-81a5-ab3d4d750a41",
      "metadata": {
        "id": "ffc6afcd-a059-4c16-81a5-ab3d4d750a41"
      },
      "outputs": [],
      "source": [
        "t04_train_x = t04_df.drop(columns=['PRODUCT_ID', 'TIMESTAMP', 'Y_Class', 'Y_Quality'])\n",
        "t04_train_y = t04_df['Y_Class']\n",
        "\n",
        "t04_test_x = test04_df.drop(columns=['PRODUCT_ID', 'TIMESTAMP'])"
      ]
    },
    {
      "cell_type": "code",
      "execution_count": null,
      "id": "f710209f-754a-456b-97a5-f7fb4f7e0f51",
      "metadata": {
        "colab": {
          "base_uri": "https://localhost:8080/"
        },
        "id": "f710209f-754a-456b-97a5-f7fb4f7e0f51",
        "outputId": "1d77696b-936b-4440-b3e6-6f965cc6373a"
      },
      "outputs": [
        {
          "output_type": "stream",
          "name": "stdout",
          "text": [
            "Done.\n"
          ]
        }
      ],
      "source": [
        "# qualitative to quantitative\n",
        "# 각 생산라인과 상품코드를 integer encoding\n",
        "\n",
        "qual_col = ['LINE', 'PRODUCT_CODE']\n",
        "\n",
        "for i in qual_col:\n",
        "    le = LabelEncoder()\n",
        "    le = le.fit(t04_train_x[i])\n",
        "    t04_train_x[i] = le.transform(t04_train_x[i])\n",
        "    \n",
        "    for label in np.unique(t04_test_x[i]): \n",
        "        if label not in le.classes_: \n",
        "            le.classes_ = np.append(le.classes_, label)\n",
        "    t04_test_x[i] = le.transform(t04_test_x[i]) \n",
        "print('Done.')"
      ]
    },
    {
      "cell_type": "code",
      "execution_count": null,
      "id": "8ad73f05-9bc3-4063-af29-25dc31f9e3d0",
      "metadata": {
        "id": "8ad73f05-9bc3-4063-af29-25dc31f9e3d0"
      },
      "outputs": [],
      "source": [
        "# train 결측값 확인하기\n",
        "\n",
        "# train_x : 전체 행 78개 중 결측치\n",
        "\n",
        "# X_2063 ~ X_2092 39개  # X_2100 ~ X_2407 39개  # X_2543 ~ X_2627 39개 => 40개는 있어야 하는걸로\n",
        "\n",
        "t04_train_x.isnull().sum()"
      ]
    },
    {
      "cell_type": "code",
      "source": [
        "# 일단 결측치 39개있는 열도 지우고 성능 별로면 넣어보기 : threshold 38, 78개 중에 40개 값은 있어야 함\n",
        "\n",
        "t04_train_x = t04_train_x.dropna(axis=1,thresh=len(t04_train_x)-38)\n",
        "\n",
        "# Columns in test data that are not present in train data\n",
        "# train data에 맞춰서 test data의 column도 정리해주기.\n",
        "cols_to_drop = [col for col in t04_test_x.columns if col not in t04_train_x.columns]\n",
        "\n",
        "# Drop the columns\n",
        "t04_test_x.drop(columns=cols_to_drop, inplace=True)"
      ],
      "metadata": {
        "id": "xNJan58r821l"
      },
      "id": "xNJan58r821l",
      "execution_count": null,
      "outputs": []
    },
    {
      "cell_type": "code",
      "source": [
        "# 결측치 threshold 안 넘는 열 채우기\n",
        "# 일단 중앙값으로 해봅시다. =>  별로면 KNN\n",
        "\n",
        "t04_train_median = t04_train_x.median()\n",
        "\n",
        "t04_train_x = t04_train_x.fillna(t04_train_median)\n",
        "t04_test_x = t04_test_x.fillna(t04_train_median) # **test의 중앙값 사용하면 안됨!!(Data leackage)**"
      ],
      "metadata": {
        "id": "j0HO03qbtRfa"
      },
      "id": "j0HO03qbtRfa",
      "execution_count": null,
      "outputs": []
    },
    {
      "cell_type": "markdown",
      "source": [
        "#### Debugging"
      ],
      "metadata": {
        "id": "52I1g8XutYNI"
      },
      "id": "52I1g8XutYNI"
    },
    {
      "cell_type": "code",
      "source": [
        "########################### DEBUG ########################################\n",
        "\n",
        "if (t04_train_x.isnull().any().any() or t04_test_x.isnull().any().any()):\n",
        "  print('missing value check again')\n",
        "\n",
        "if (len(t04_train_x.columns) != len(t04_test_x.columns)):\n",
        "  print('column # check again')"
      ],
      "metadata": {
        "id": "Eki1g5jYLjxA"
      },
      "id": "Eki1g5jYLjxA",
      "execution_count": null,
      "outputs": []
    },
    {
      "cell_type": "markdown",
      "source": [
        "#### Feature selection\n",
        "Using PCA with StandardScaling"
      ],
      "metadata": {
        "id": "r_K88xPbRMYO"
      },
      "id": "r_K88xPbRMYO"
    },
    {
      "cell_type": "code",
      "source": [
        "from sklearn.preprocessing import StandardScaler  # 표준화 패키지 라이브러리 \n",
        "\n",
        "t04_train_x = StandardScaler().fit_transform(t04_train_x)"
      ],
      "metadata": {
        "id": "3HPAJDLr5JEY"
      },
      "id": "3HPAJDLr5JEY",
      "execution_count": null,
      "outputs": []
    },
    {
      "cell_type": "code",
      "source": [
        "from sklearn.decomposition import PCA\n",
        "\n",
        "t04_pca = PCA(n_components=60) # 주성분을 몇개로 할지 결정\n",
        "t04_train_new = t04_pca.fit_transform(t04_train_x)\n",
        "t04_test_new = t04_pca.transform(t04_test_x)"
      ],
      "metadata": {
        "colab": {
          "base_uri": "https://localhost:8080/"
        },
        "id": "CQwo1C-S6BrL",
        "outputId": "c3f4feda-bfb2-4af5-fe91-ef06498295cc"
      },
      "id": "CQwo1C-S6BrL",
      "execution_count": null,
      "outputs": [
        {
          "output_type": "stream",
          "name": "stderr",
          "text": [
            "/usr/local/lib/python3.8/dist-packages/sklearn/base.py:443: UserWarning: X has feature names, but PCA was fitted without feature names\n",
            "  warnings.warn(\n"
          ]
        }
      ]
    },
    {
      "cell_type": "code",
      "source": [
        "sum(t04_pca.explained_variance_ratio_)"
      ],
      "metadata": {
        "colab": {
          "base_uri": "https://localhost:8080/"
        },
        "id": "H2fYVwev7pDs",
        "outputId": "8a0d0fe5-5c67-4835-c9c6-4650edfc6035"
      },
      "id": "H2fYVwev7pDs",
      "execution_count": null,
      "outputs": [
        {
          "output_type": "execute_result",
          "data": {
            "text/plain": [
              "0.9553499773797567"
            ]
          },
          "metadata": {},
          "execution_count": 101
        }
      ]
    },
    {
      "cell_type": "markdown",
      "source": [
        "### 2. **Line T050307(t07)** data preprocessing\n"
      ],
      "metadata": {
        "id": "oE-QTk3cqJys"
      },
      "id": "oE-QTk3cqJys"
    },
    {
      "cell_type": "markdown",
      "source": [
        "#### Divide dataframe and Fill in missing values"
      ],
      "metadata": {
        "id": "9f65L7DIqJyt"
      },
      "id": "9f65L7DIqJyt"
    },
    {
      "cell_type": "code",
      "execution_count": null,
      "metadata": {
        "id": "SWzjUTCtqJyu"
      },
      "outputs": [],
      "source": [
        "t07_train_x = t07_df.drop(columns=['PRODUCT_ID', 'TIMESTAMP', 'Y_Class', 'Y_Quality'])\n",
        "t07_train_y = t07_df['Y_Class']\n",
        "\n",
        "t07_test_x = test07_df.drop(columns=['PRODUCT_ID', 'TIMESTAMP'])"
      ],
      "id": "SWzjUTCtqJyu"
    },
    {
      "cell_type": "code",
      "execution_count": null,
      "metadata": {
        "colab": {
          "base_uri": "https://localhost:8080/"
        },
        "outputId": "0de35cda-b2b8-4265-e9f8-588ce6b5e04c",
        "id": "F1G3e1r-qJyu"
      },
      "outputs": [
        {
          "output_type": "stream",
          "name": "stdout",
          "text": [
            "Done.\n"
          ]
        }
      ],
      "source": [
        "# qualitative to quantitative\n",
        "# 각 생산라인과 상품코드를 integer encoding\n",
        "\n",
        "qual_col = ['LINE', 'PRODUCT_CODE']\n",
        "\n",
        "for i in qual_col:\n",
        "    le = LabelEncoder()\n",
        "    le = le.fit(t07_train_x[i])\n",
        "    t07_train_x[i] = le.transform(t07_train_x[i])\n",
        "    \n",
        "    for label in np.unique(t07_test_x[i]): \n",
        "        if label not in le.classes_: \n",
        "            le.classes_ = np.append(le.classes_, label)\n",
        "    t07_test_x[i] = le.transform(t07_test_x[i]) \n",
        "print('Done.')"
      ],
      "id": "F1G3e1r-qJyu"
    },
    {
      "cell_type": "code",
      "execution_count": null,
      "metadata": {
        "id": "Icuf6fiDqJyw"
      },
      "outputs": [],
      "source": [
        "# train 결측값 확인하기\n",
        "\n",
        "# train_x : X_1167 ~ X_1171 28개, X_1274 ~ X_1278 28개, \n",
        "t07_train_x.isnull().sum()"
      ],
      "id": "Icuf6fiDqJyw"
    },
    {
      "cell_type": "code",
      "source": [
        "#threshold 24, 42개 중에 28개 값은 있어야 함\n",
        "t07_train_x = t07_train_x.dropna(axis=1,thresh=24)\n",
        "\n",
        "# Columns in test data that are not present in train data\n",
        "# train data에 맞춰서 test data의 column도 정리해주기.\n",
        "cols_to_drop = [col for col in t07_test_x.columns if col not in t07_train_x.columns]\n",
        "\n",
        "# Drop the columns\n",
        "t07_test_x.drop(columns=cols_to_drop, inplace=True)"
      ],
      "metadata": {
        "id": "AiQZrngkqJyy"
      },
      "execution_count": null,
      "outputs": [],
      "id": "AiQZrngkqJyy"
    },
    {
      "cell_type": "code",
      "source": [
        "# 결측치 threshold 안 넘는 열 채우기\n",
        "# 일단 중앙값으로 해봅시다. 별로면 KNN\n",
        "\n",
        "t07_train_median = t07_train_x.median()\n",
        "\n",
        "t07_train_x = t07_train_x.fillna(t07_train_median)\n",
        "t07_test_x = t07_test_x.fillna(t07_train_median)"
      ],
      "metadata": {
        "id": "vXAfU3dVqJyy"
      },
      "execution_count": null,
      "outputs": [],
      "id": "vXAfU3dVqJyy"
    },
    {
      "cell_type": "markdown",
      "source": [
        "#### Debugging"
      ],
      "metadata": {
        "id": "O2n7WyXqtho1"
      },
      "id": "O2n7WyXqtho1"
    },
    {
      "cell_type": "code",
      "source": [
        "########################### DEBUG ########################################\n",
        "\n",
        "if (t07_train_x.isnull().any().any() or t07_test_x.isnull().any().any()):\n",
        "  print('missing value check again')\n",
        "\n",
        "if (len(t07_train_x.columns) != len(t07_test_x.columns)):\n",
        "  print('column # check again')"
      ],
      "metadata": {
        "id": "V3e8quM0qJyz"
      },
      "execution_count": null,
      "outputs": [],
      "id": "V3e8quM0qJyz"
    },
    {
      "cell_type": "markdown",
      "source": [
        "#### Feature selection\n",
        "Using PCA with StandardScaling"
      ],
      "metadata": {
        "id": "s2ZGM43pKf8b"
      },
      "id": "s2ZGM43pKf8b"
    },
    {
      "cell_type": "code",
      "source": [
        "from sklearn.preprocessing import StandardScaler  # 표준화 패키지 라이브러리 \n",
        "\n",
        "t07_train_x = StandardScaler().fit_transform(t07_train_x)"
      ],
      "metadata": {
        "id": "fvr97hwyKf8i"
      },
      "execution_count": null,
      "outputs": [],
      "id": "fvr97hwyKf8i"
    },
    {
      "cell_type": "code",
      "source": [
        "from sklearn.decomposition import PCA\n",
        "\n",
        "t07_pca = PCA(n_components=33) # 주성분을 몇개로 할지 결정\n",
        "t07_train_new = t07_pca.fit_transform(t07_train_x)\n",
        "t07_test_new = t07_pca.transform(t07_test_x)"
      ],
      "metadata": {
        "colab": {
          "base_uri": "https://localhost:8080/"
        },
        "outputId": "53362991-5078-4c1b-d1f4-885dfb279560",
        "id": "JIo44V6UKf8i"
      },
      "execution_count": null,
      "outputs": [
        {
          "output_type": "stream",
          "name": "stderr",
          "text": [
            "/usr/local/lib/python3.8/dist-packages/sklearn/base.py:443: UserWarning: X has feature names, but PCA was fitted without feature names\n",
            "  warnings.warn(\n"
          ]
        }
      ],
      "id": "JIo44V6UKf8i"
    },
    {
      "cell_type": "code",
      "source": [
        "sum(t07_pca.explained_variance_ratio_)"
      ],
      "metadata": {
        "colab": {
          "base_uri": "https://localhost:8080/"
        },
        "outputId": "3d424916-3e8d-4377-e481-cc8fdc107339",
        "id": "45p_DPEaKf8j"
      },
      "execution_count": null,
      "outputs": [
        {
          "output_type": "execute_result",
          "data": {
            "text/plain": [
              "0.9514601099470498"
            ]
          },
          "metadata": {},
          "execution_count": 109
        }
      ],
      "id": "45p_DPEaKf8j"
    },
    {
      "cell_type": "markdown",
      "source": [
        "### 3. **Line T100304(t14)** data preprocessing\n"
      ],
      "metadata": {
        "id": "e8gPcGUGqN-_"
      },
      "id": "e8gPcGUGqN-_"
    },
    {
      "cell_type": "markdown",
      "source": [
        "#### Divide dataframe and Fill in missing values"
      ],
      "metadata": {
        "id": "fc3-beqJqN_B"
      },
      "id": "fc3-beqJqN_B"
    },
    {
      "cell_type": "code",
      "execution_count": null,
      "metadata": {
        "id": "8L2jxkPRqN_C"
      },
      "outputs": [],
      "source": [
        "t14_train_x = t14_df.drop(columns=['PRODUCT_ID', 'TIMESTAMP', 'Y_Class', 'Y_Quality'])\n",
        "t14_train_y = t14_df['Y_Class']\n",
        "\n",
        "t14_test_x = test14_df.drop(columns=['PRODUCT_ID', 'TIMESTAMP'])"
      ],
      "id": "8L2jxkPRqN_C"
    },
    {
      "cell_type": "code",
      "execution_count": null,
      "metadata": {
        "id": "0xJVKfbLqN_C",
        "colab": {
          "base_uri": "https://localhost:8080/"
        },
        "outputId": "ebf91d92-752c-4163-a32e-57684ff9dedf"
      },
      "outputs": [
        {
          "output_type": "stream",
          "name": "stdout",
          "text": [
            "Done.\n"
          ]
        }
      ],
      "source": [
        "# qualitative to quantitative\n",
        "# 각 생산라인과 상품코드를 integer encoding\n",
        "\n",
        "qual_col = ['LINE', 'PRODUCT_CODE']\n",
        "\n",
        "for i in qual_col:\n",
        "    le = LabelEncoder()\n",
        "    le = le.fit(t14_train_x[i])\n",
        "    t14_train_x[i] = le.transform(t14_train_x[i])\n",
        "    \n",
        "    for label in np.unique(t14_test_x[i]): \n",
        "        if label not in le.classes_: \n",
        "            le.classes_ = np.append(le.classes_, label)\n",
        "    t14_test_x[i] = le.transform(t14_test_x[i]) \n",
        "print('Done.')"
      ],
      "id": "0xJVKfbLqN_C"
    },
    {
      "cell_type": "code",
      "execution_count": null,
      "metadata": {
        "id": "7Ye2bRAyqN_E"
      },
      "outputs": [],
      "source": [
        "# train 결측값 확인하기\n",
        "\n",
        "t14_train_x.isnull().sum()"
      ],
      "id": "7Ye2bRAyqN_E"
    },
    {
      "cell_type": "code",
      "source": [
        "t14_train_x = t14_train_x.dropna(axis=1,thresh=100)\n",
        "\n",
        "# Columns in test data that are not present in train data\n",
        "# train data에 맞춰서 test data의 column도 정리해주기.\n",
        "cols_to_drop = [col for col in t14_test_x.columns if col not in t14_train_x.columns]\n",
        "\n",
        "# Drop the columns\n",
        "t14_test_x.drop(columns=cols_to_drop, inplace=True)"
      ],
      "metadata": {
        "id": "EBqeKiOyqN_G"
      },
      "execution_count": null,
      "outputs": [],
      "id": "EBqeKiOyqN_G"
    },
    {
      "cell_type": "code",
      "source": [
        "# 결측치 threshold 안 넘는 열 채우기\n",
        "# 일단 중앙값으로 해봅시다. 별로면 KNN\n",
        "\n",
        "t14_train_median = t14_train_x.median()\n",
        "\n",
        "t14_train_x = t14_train_x.fillna(t14_train_median)\n",
        "t14_test_x = t14_test_x.fillna(t14_train_median)"
      ],
      "metadata": {
        "id": "GZ3_1rVEqN_G"
      },
      "execution_count": null,
      "outputs": [],
      "id": "GZ3_1rVEqN_G"
    },
    {
      "cell_type": "markdown",
      "source": [
        "#### Debugging"
      ],
      "metadata": {
        "id": "WiYaK218toUL"
      },
      "id": "WiYaK218toUL"
    },
    {
      "cell_type": "code",
      "source": [
        "########################### DEBUG ########################################\n",
        "\n",
        "if (t14_train_x.isnull().any().any() or t14_test_x.isnull().any().any()):\n",
        "  print('missing value check again')\n",
        "\n",
        "if (len(t14_train_x.columns) != len(t14_test_x.columns)):\n",
        "  print('column # check again')"
      ],
      "metadata": {
        "id": "hYr3bVfiqN_H"
      },
      "execution_count": null,
      "outputs": [],
      "id": "hYr3bVfiqN_H"
    },
    {
      "cell_type": "markdown",
      "source": [
        "#### Feature selection\n",
        "Using PCA with StandardScaling"
      ],
      "metadata": {
        "id": "Duee6-u2L41N"
      },
      "id": "Duee6-u2L41N"
    },
    {
      "cell_type": "code",
      "source": [
        "from sklearn.preprocessing import StandardScaler  # 표준화 패키지 라이브러리 \n",
        "\n",
        "t14_train_x = StandardScaler().fit_transform(t14_train_x)"
      ],
      "metadata": {
        "id": "kex32hqrL41O"
      },
      "execution_count": null,
      "outputs": [],
      "id": "kex32hqrL41O"
    },
    {
      "cell_type": "code",
      "source": [
        "from sklearn.decomposition import PCA\n",
        "\n",
        "t14_pca = PCA(n_components=100) # 주성분을 몇개로 할지 결정\n",
        "t14_train_new = t14_pca.fit_transform(t14_train_x)\n",
        "t14_test_new = t14_pca.transform(t14_test_x)"
      ],
      "metadata": {
        "colab": {
          "base_uri": "https://localhost:8080/"
        },
        "outputId": "bfd41f0f-a8fb-48a0-9e9e-b16bc1e76f21",
        "id": "gGlrvF0VL41O"
      },
      "execution_count": null,
      "outputs": [
        {
          "output_type": "stream",
          "name": "stderr",
          "text": [
            "/usr/local/lib/python3.8/dist-packages/sklearn/base.py:443: UserWarning: X has feature names, but PCA was fitted without feature names\n",
            "  warnings.warn(\n"
          ]
        }
      ],
      "id": "gGlrvF0VL41O"
    },
    {
      "cell_type": "code",
      "source": [
        "sum(t14_pca.explained_variance_ratio_)"
      ],
      "metadata": {
        "colab": {
          "base_uri": "https://localhost:8080/"
        },
        "outputId": "5165a1aa-81e7-49eb-81b7-eb35686486cb",
        "id": "cBPOb3DDL41O"
      },
      "execution_count": null,
      "outputs": [
        {
          "output_type": "execute_result",
          "data": {
            "text/plain": [
              "0.9528195171806393"
            ]
          },
          "metadata": {},
          "execution_count": 136
        }
      ],
      "id": "cBPOb3DDL41O"
    },
    {
      "cell_type": "markdown",
      "source": [
        "### 4. Line **T100306(t16)** data preprocessing\n"
      ],
      "metadata": {
        "id": "soad2IyOqe6p"
      },
      "id": "soad2IyOqe6p"
    },
    {
      "cell_type": "markdown",
      "source": [
        "#### Divide dataframe and Fill in missing values"
      ],
      "metadata": {
        "id": "QiOKKggsqe6q"
      },
      "id": "QiOKKggsqe6q"
    },
    {
      "cell_type": "code",
      "execution_count": null,
      "metadata": {
        "id": "MvBKvb0Zqe6r"
      },
      "outputs": [],
      "source": [
        "t16_train_x = t16_df.drop(columns=['PRODUCT_ID', 'TIMESTAMP', 'Y_Class', 'Y_Quality'])\n",
        "t16_train_y = t16_df['Y_Class']\n",
        "\n",
        "t16_test_x = test16_df.drop(columns=['PRODUCT_ID', 'TIMESTAMP'])"
      ],
      "id": "MvBKvb0Zqe6r"
    },
    {
      "cell_type": "code",
      "execution_count": null,
      "metadata": {
        "id": "vK1K3Z94qe6s",
        "colab": {
          "base_uri": "https://localhost:8080/"
        },
        "outputId": "21d84a36-af55-4a0d-967c-c3f9351675b0"
      },
      "outputs": [
        {
          "output_type": "stream",
          "name": "stdout",
          "text": [
            "Done.\n"
          ]
        }
      ],
      "source": [
        "# qualitative to quantitative\n",
        "# 각 생산라인과 상품코드를 integer encoding\n",
        "\n",
        "qual_col = ['LINE', 'PRODUCT_CODE']\n",
        "\n",
        "for i in qual_col:\n",
        "    le = LabelEncoder()\n",
        "    le = le.fit(t16_train_x[i])\n",
        "    t16_train_x[i] = le.transform(t16_train_x[i])\n",
        "    \n",
        "    for label in np.unique(t16_test_x[i]): \n",
        "        if label not in le.classes_: \n",
        "            le.classes_ = np.append(le.classes_, label)\n",
        "    t16_test_x[i] = le.transform(t16_test_x[i]) \n",
        "print('Done.')"
      ],
      "id": "vK1K3Z94qe6s"
    },
    {
      "cell_type": "code",
      "execution_count": null,
      "metadata": {
        "id": "j2RH6vE7qe6t"
      },
      "outputs": [],
      "source": [
        "# train 결측값 확인하기\n",
        "t16_train_x.isnull().sum()"
      ],
      "id": "j2RH6vE7qe6t"
    },
    {
      "cell_type": "code",
      "source": [
        "t16_train_x = t16_train_x.dropna(axis=1,thresh=100)\n",
        "\n",
        "# Columns in test data that are not present in train data\n",
        "# train data에 맞춰서 test data의 column도 정리해주기.\n",
        "cols_to_drop = [col for col in t16_test_x.columns if col not in t16_train_x.columns]\n",
        "\n",
        "# Drop the columns\n",
        "t16_test_x.drop(columns=cols_to_drop, inplace=True)"
      ],
      "metadata": {
        "id": "zblJ92Saqe6v"
      },
      "execution_count": null,
      "outputs": [],
      "id": "zblJ92Saqe6v"
    },
    {
      "cell_type": "code",
      "source": [
        "# 결측치 threshold 안 넘는 열 채우기\n",
        "# 일단 중앙값으로 해봅시다. 별로면 KNN\n",
        "\n",
        "t16_train_median = t16_train_x.median()\n",
        "\n",
        "train_x = t16_train_x.fillna(t16_train_median)\n",
        "t16_test_x = t16_test_x.fillna(t16_train_median)"
      ],
      "metadata": {
        "id": "0ALhaKQaqe6v"
      },
      "execution_count": null,
      "outputs": [],
      "id": "0ALhaKQaqe6v"
    },
    {
      "cell_type": "markdown",
      "source": [
        "#### Debugging"
      ],
      "metadata": {
        "id": "kdhtboEItr_m"
      },
      "id": "kdhtboEItr_m"
    },
    {
      "cell_type": "code",
      "source": [
        "########################### DEBUG ########################################\n",
        "\n",
        "if (t16_train_x.isnull().any().any() or t16_test_x.isnull().any().any()):\n",
        "  print('missing value check again')\n",
        "\n",
        "if (len(t16_train_x.columns) != len(t16_test_x.columns)):\n",
        "  print('column # check again')"
      ],
      "metadata": {
        "id": "AX305BG4qe6w"
      },
      "execution_count": null,
      "outputs": [],
      "id": "AX305BG4qe6w"
    },
    {
      "cell_type": "markdown",
      "source": [
        "#### Feature selection\n",
        "Using PCA with StandardScaling"
      ],
      "metadata": {
        "id": "mA9lU-PcMyAy"
      },
      "id": "mA9lU-PcMyAy"
    },
    {
      "cell_type": "code",
      "source": [
        "from sklearn.preprocessing import StandardScaler  # 표준화 패키지 라이브러리 \n",
        "\n",
        "t16_train_x = StandardScaler().fit_transform(t16_train_x)"
      ],
      "metadata": {
        "id": "8Y-rwS_cMyAz"
      },
      "execution_count": null,
      "outputs": [],
      "id": "8Y-rwS_cMyAz"
    },
    {
      "cell_type": "code",
      "source": [
        "from sklearn.decomposition import PCA\n",
        "\n",
        "t16_pca = PCA(n_components=100) # 주성분을 몇개로 할지 결정\n",
        "t16_train_new = t16_pca.fit_transform(t16_train_x)\n",
        "t16_test_new = t16_pca.transform(t16_test_x)\n",
        "\n",
        "print(sum(t16_pca.explained_variance_ratio_))"
      ],
      "metadata": {
        "colab": {
          "base_uri": "https://localhost:8080/"
        },
        "outputId": "f1c52afe-a276-4f75-fcda-f7dee432ff84",
        "id": "GJPaXiiSMyAz"
      },
      "execution_count": null,
      "outputs": [
        {
          "output_type": "stream",
          "name": "stdout",
          "text": [
            "0.9536603371200982\n"
          ]
        },
        {
          "output_type": "stream",
          "name": "stderr",
          "text": [
            "/usr/local/lib/python3.8/dist-packages/sklearn/base.py:443: UserWarning: X has feature names, but PCA was fitted without feature names\n",
            "  warnings.warn(\n"
          ]
        }
      ],
      "id": "GJPaXiiSMyAz"
    },
    {
      "cell_type": "markdown",
      "source": [
        "### 5. Line **T010306(t06)** data preprocessing\n"
      ],
      "metadata": {
        "id": "ne6JGrrMqjra"
      },
      "id": "ne6JGrrMqjra"
    },
    {
      "cell_type": "markdown",
      "source": [
        "#### Divide dataframe and Fill in missing values"
      ],
      "metadata": {
        "id": "15E6deJhqjrb"
      },
      "id": "15E6deJhqjrb"
    },
    {
      "cell_type": "code",
      "execution_count": null,
      "metadata": {
        "id": "T--jKisgqjrc"
      },
      "outputs": [],
      "source": [
        "t06_train_x = t06_df.drop(columns=['PRODUCT_ID', 'TIMESTAMP', 'Y_Class', 'Y_Quality'])\n",
        "t06_train_y = t06_df['Y_Class']\n",
        "\n",
        "t06_test_x = test06_df.drop(columns=['PRODUCT_ID', 'TIMESTAMP'])"
      ],
      "id": "T--jKisgqjrc"
    },
    {
      "cell_type": "code",
      "execution_count": null,
      "metadata": {
        "id": "rKTPZ0COqjrd",
        "colab": {
          "base_uri": "https://localhost:8080/"
        },
        "outputId": "30c09d52-48bd-40a8-a5d9-e8403a9cb30d"
      },
      "outputs": [
        {
          "output_type": "stream",
          "name": "stdout",
          "text": [
            "Done.\n"
          ]
        }
      ],
      "source": [
        "# qualitative to quantitative\n",
        "# 각 생산라인과 상품코드를 integer encoding\n",
        "\n",
        "qual_col = ['LINE', 'PRODUCT_CODE']\n",
        "\n",
        "for i in qual_col:\n",
        "    le = LabelEncoder()\n",
        "    le = le.fit(t06_train_x[i])\n",
        "    t06_train_x[i] = le.transform(t06_train_x[i])\n",
        "    \n",
        "    for label in np.unique(t06_test_x[i]): \n",
        "        if label not in le.classes_: \n",
        "            le.classes_ = np.append(le.classes_, label)\n",
        "    t06_test_x[i] = le.transform(t06_test_x[i]) \n",
        "print('Done.')"
      ],
      "id": "rKTPZ0COqjrd"
    },
    {
      "cell_type": "code",
      "execution_count": null,
      "metadata": {
        "id": "FhALBt8fqjre"
      },
      "outputs": [],
      "source": [
        "# train 결측값 확인하기\n",
        "\n",
        "t06_train_x.isnull().sum()"
      ],
      "id": "FhALBt8fqjre"
    },
    {
      "cell_type": "code",
      "source": [
        "# 일단 결측치 39개있는 열도 지우고 성능 별로면 넣어보기\n",
        "\n",
        "t06_train_x = t06_train_x.dropna(axis=1,thresh=35)\n",
        "\n",
        "# Columns in test data that are not present in train data\n",
        "# train data에 맞춰서 test data의 column도 정리해주기.\n",
        "cols_to_drop = [col for col in t06_test_x.columns if col not in t06_train_x.columns]\n",
        "\n",
        "# Drop the columns\n",
        "t06_test_x.drop(columns=cols_to_drop, inplace=True)"
      ],
      "metadata": {
        "id": "GgJmHYMqqjrg"
      },
      "execution_count": null,
      "outputs": [],
      "id": "GgJmHYMqqjrg"
    },
    {
      "cell_type": "code",
      "source": [
        "# 결측치 threshold 안 넘는 열 채우기\n",
        "# 일단 중앙값으로 해봅시다. 별로면 KNN\n",
        "\n",
        "t06_train_median = t06_train_x.median()\n",
        "\n",
        "t06_train_x = t06_train_x.fillna(t06_train_median)\n",
        "t06_test_x = t06_test_x.fillna(t06_train_median)"
      ],
      "metadata": {
        "id": "x1pmwURKqjrg"
      },
      "execution_count": null,
      "outputs": [],
      "id": "x1pmwURKqjrg"
    },
    {
      "cell_type": "markdown",
      "source": [
        "#### Debugging"
      ],
      "metadata": {
        "id": "BemeHpWxtv1I"
      },
      "id": "BemeHpWxtv1I"
    },
    {
      "cell_type": "code",
      "source": [
        "########################### DEBUG ########################################\n",
        "\n",
        "if (t06_train_x.isnull().any().any() or t06_test_x.isnull().any().any()):\n",
        "  print('missing value check again')\n",
        "\n",
        "if (len(t06_train_x.columns) != len(t06_test_x.columns)):\n",
        "  print('column # check again')"
      ],
      "metadata": {
        "id": "0tmGT6ILqjrh"
      },
      "execution_count": null,
      "outputs": [],
      "id": "0tmGT6ILqjrh"
    },
    {
      "cell_type": "markdown",
      "source": [
        "#### Feature selection\n",
        "Using PCA with StandardScaling"
      ],
      "metadata": {
        "id": "F2rToEMyQZpu"
      },
      "id": "F2rToEMyQZpu"
    },
    {
      "cell_type": "code",
      "source": [
        "from sklearn.preprocessing import StandardScaler  # 표준화 패키지 라이브러리 \n",
        "\n",
        "t06_train_x = StandardScaler().fit_transform(t06_train_x)"
      ],
      "metadata": {
        "id": "hr1iXI3LQZpv"
      },
      "execution_count": null,
      "outputs": [],
      "id": "hr1iXI3LQZpv"
    },
    {
      "cell_type": "code",
      "source": [
        "from sklearn.decomposition import PCA\n",
        "\n",
        "t06_pca = PCA(n_components=50) # 주성분을 몇개로 할지 결정\n",
        "t06_train_new = t06_pca.fit_transform(t06_train_x)\n",
        "t06_test_new = t06_pca.transform(t06_test_x)\n",
        "\n",
        "print(sum(t16_pca.explained_variance_ratio_))"
      ],
      "metadata": {
        "colab": {
          "base_uri": "https://localhost:8080/"
        },
        "outputId": "ad9aea85-ad80-4bd2-a07c-e699be8af9b8",
        "id": "5MB3jeuKQZpv"
      },
      "execution_count": null,
      "outputs": [
        {
          "output_type": "stream",
          "name": "stdout",
          "text": [
            "0.9536603371200982\n"
          ]
        },
        {
          "output_type": "stream",
          "name": "stderr",
          "text": [
            "/usr/local/lib/python3.8/dist-packages/sklearn/base.py:443: UserWarning: X has feature names, but PCA was fitted without feature names\n",
            "  warnings.warn(\n"
          ]
        }
      ],
      "id": "5MB3jeuKQZpv"
    },
    {
      "cell_type": "markdown",
      "source": [
        "### 6. Line **T010305(t05)** data preprocessing\n"
      ],
      "metadata": {
        "id": "6l9-mIAZqs2s"
      },
      "id": "6l9-mIAZqs2s"
    },
    {
      "cell_type": "markdown",
      "source": [
        "#### Divide dataframe and Fill in missing values"
      ],
      "metadata": {
        "id": "ujzSnxoKqs2u"
      },
      "id": "ujzSnxoKqs2u"
    },
    {
      "cell_type": "code",
      "execution_count": null,
      "metadata": {
        "id": "ppdFn6Y5qs2u"
      },
      "outputs": [],
      "source": [
        "t05_train_x = t05_df.drop(columns=['PRODUCT_ID', 'TIMESTAMP', 'Y_Class', 'Y_Quality'])\n",
        "t05_train_y = t05_df['Y_Class']\n",
        "\n",
        "t05_test_x = test05_df.drop(columns=['PRODUCT_ID', 'TIMESTAMP'])"
      ],
      "id": "ppdFn6Y5qs2u"
    },
    {
      "cell_type": "code",
      "execution_count": null,
      "metadata": {
        "id": "BMAmcJY4qs2v",
        "colab": {
          "base_uri": "https://localhost:8080/"
        },
        "outputId": "53644ad3-b91a-4672-a571-a63a1f723803"
      },
      "outputs": [
        {
          "output_type": "stream",
          "name": "stdout",
          "text": [
            "Done.\n"
          ]
        }
      ],
      "source": [
        "# qualitative to quantitative\n",
        "# 각 생산라인과 상품코드를 integer encoding\n",
        "\n",
        "qual_col = ['LINE', 'PRODUCT_CODE']\n",
        "\n",
        "for i in qual_col:\n",
        "    le = LabelEncoder()\n",
        "    le = le.fit(t05_train_x[i])\n",
        "    t05_train_x[i] = le.transform(t05_train_x[i])\n",
        "    \n",
        "    for label in np.unique(t05_test_x[i]): \n",
        "        if label not in le.classes_: \n",
        "            le.classes_ = np.append(le.classes_, label)\n",
        "    t05_test_x[i] = le.transform(t05_test_x[i]) \n",
        "print('Done.')"
      ],
      "id": "BMAmcJY4qs2v"
    },
    {
      "cell_type": "code",
      "execution_count": null,
      "metadata": {
        "id": "ePXEI61cqs2x"
      },
      "outputs": [],
      "source": [
        "# train 결측값 확인하기\n",
        "\n",
        "t05_train_x.isnull().sum()"
      ],
      "id": "ePXEI61cqs2x"
    },
    {
      "cell_type": "code",
      "source": [
        "t05_train_x = t05_train_x.dropna(axis=1,thresh=30)\n",
        "\n",
        "# Columns in test data that are not present in train data\n",
        "# train data에 맞춰서 test data의 column도 정리해주기.\n",
        "cols_to_drop = [col for col in t05_test_x.columns if col not in t05_train_x.columns]\n",
        "\n",
        "# Drop the columns\n",
        "t05_test_x.drop(columns=cols_to_drop, inplace=True)"
      ],
      "metadata": {
        "id": "1GULF6YLqs2y"
      },
      "execution_count": null,
      "outputs": [],
      "id": "1GULF6YLqs2y"
    },
    {
      "cell_type": "code",
      "source": [
        "# 결측치 threshold 안 넘는 열 채우기\n",
        "# 일단 중앙값으로 해봅시다. 별로면 KNN\n",
        "\n",
        "t05_train_median = t05_train_x.median()\n",
        "\n",
        "t05_train_x = t05_train_x.fillna(t05_train_median)\n",
        "t05_test_x = t05_test_x.fillna(t05_train_median)"
      ],
      "metadata": {
        "id": "zaN3EG3Qqs2z"
      },
      "execution_count": null,
      "outputs": [],
      "id": "zaN3EG3Qqs2z"
    },
    {
      "cell_type": "markdown",
      "source": [
        "#### Debugging"
      ],
      "metadata": {
        "id": "AGj5teytty8y"
      },
      "id": "AGj5teytty8y"
    },
    {
      "cell_type": "code",
      "source": [
        "########################### DEBUG ########################################\n",
        "\n",
        "if (t05_train_x.isnull().any().any() or t05_test_x.isnull().any().any()):\n",
        "  print('missing value check again')\n",
        "\n",
        "if (len(t05_train_x.columns) != len(t05_test_x.columns)):\n",
        "  print('column # check again')"
      ],
      "metadata": {
        "id": "eKLH1WXzqs2z"
      },
      "execution_count": null,
      "outputs": [],
      "id": "eKLH1WXzqs2z"
    },
    {
      "cell_type": "markdown",
      "source": [
        "#### Feature selection\n",
        "Using PCA with StandardScaling"
      ],
      "metadata": {
        "id": "qxn6i494RqnY"
      },
      "id": "qxn6i494RqnY"
    },
    {
      "cell_type": "code",
      "source": [
        "from sklearn.preprocessing import StandardScaler  # 표준화 패키지 라이브러리 \n",
        "\n",
        "t05_train_x = StandardScaler().fit_transform(t05_train_x)"
      ],
      "metadata": {
        "id": "NUfs0k44RqnY"
      },
      "execution_count": null,
      "outputs": [],
      "id": "NUfs0k44RqnY"
    },
    {
      "cell_type": "code",
      "source": [
        "from sklearn.decomposition import PCA\n",
        "\n",
        "t05_pca = PCA(n_components=45) # 주성분을 몇개로 할지 결정\n",
        "t05_train_new = t05_pca.fit_transform(t05_train_x)\n",
        "t05_test_new = t05_pca.transform(t05_test_x)\n",
        "\n",
        "print(sum(t05_pca.explained_variance_ratio_))"
      ],
      "metadata": {
        "colab": {
          "base_uri": "https://localhost:8080/"
        },
        "outputId": "fb31026b-b049-433b-9312-f87808061da2",
        "id": "gtAOIbepRqnY"
      },
      "execution_count": null,
      "outputs": [
        {
          "output_type": "stream",
          "name": "stdout",
          "text": [
            "0.9516700632402392\n"
          ]
        },
        {
          "output_type": "stream",
          "name": "stderr",
          "text": [
            "/usr/local/lib/python3.8/dist-packages/sklearn/base.py:443: UserWarning: X has feature names, but PCA was fitted without feature names\n",
            "  warnings.warn(\n"
          ]
        }
      ],
      "id": "gtAOIbepRqnY"
    },
    {
      "cell_type": "markdown",
      "id": "5fec6b34-1e64-4d20-afdd-e96f4f77fa31",
      "metadata": {
        "id": "5fec6b34-1e64-4d20-afdd-e96f4f77fa31"
      },
      "source": [
        "## Classification Model Fit"
      ]
    },
    {
      "cell_type": "markdown",
      "source": [
        "먼저 fit하고 XAI로 접근해서 X 변수 해석하기"
      ],
      "metadata": {
        "id": "SA76tTUqBdYS"
      },
      "id": "SA76tTUqBdYS"
    },
    {
      "cell_type": "code",
      "execution_count": null,
      "id": "c6ca77bc-154c-4cb3-9251-3fe45d671416",
      "metadata": {
        "id": "c6ca77bc-154c-4cb3-9251-3fe45d671416",
        "colab": {
          "base_uri": "https://localhost:8080/"
        },
        "outputId": "a81b3295-8a63-495b-f910-86675f0bed38"
      },
      "outputs": [
        {
          "output_type": "stream",
          "name": "stdout",
          "text": [
            "Done.\n"
          ]
        }
      ],
      "source": [
        "RF04 = RandomForestClassifier(random_state=37).fit(t04_train_new, t04_train_y)\n",
        "RF07 = RandomForestClassifier(random_state=37).fit(t07_train_new, t07_train_y)\n",
        "RF14 = RandomForestClassifier(random_state=37).fit(t14_train_new, t14_train_y)\n",
        "RF16 = RandomForestClassifier(random_state=37).fit(t16_train_new, t16_train_y)\n",
        "RF06 = RandomForestClassifier(random_state=37).fit(t06_train_new, t06_train_y)\n",
        "RF05 = RandomForestClassifier(random_state=37).fit(t05_train_new, t05_train_y)\n",
        "print('Done.')"
      ]
    },
    {
      "cell_type": "markdown",
      "id": "74ddaa38-bd6e-47d2-82d3-c000f188886a",
      "metadata": {
        "id": "74ddaa38-bd6e-47d2-82d3-c000f188886a"
      },
      "source": [
        "## Inference"
      ]
    },
    {
      "cell_type": "markdown",
      "source": [
        "Y_Quality 값으로 오차 보정하기."
      ],
      "metadata": {
        "id": "BOHiZ0ZpnG8x"
      },
      "id": "BOHiZ0ZpnG8x"
    },
    {
      "cell_type": "code",
      "execution_count": null,
      "id": "33b68656-3d7d-4221-b508-24d0d7622179",
      "metadata": {
        "id": "33b68656-3d7d-4221-b508-24d0d7622179",
        "colab": {
          "base_uri": "https://localhost:8080/"
        },
        "outputId": "f339c736-432b-4e4b-dffd-c9461a640eb7"
      },
      "outputs": [
        {
          "output_type": "stream",
          "name": "stdout",
          "text": [
            "Done.\n"
          ]
        }
      ],
      "source": [
        "t04_preds = RF04.predict(t04_test_new)\n",
        "t07_preds = RF07.predict(t07_test_new)\n",
        "t14_preds = RF14.predict(t14_test_new)\n",
        "t16_preds = RF16.predict(t16_test_new)\n",
        "t06_preds = RF06.predict(t06_test_new)\n",
        "t05_preds = RF05.predict(t05_test_new)\n",
        "print('Done.')"
      ]
    },
    {
      "cell_type": "markdown",
      "id": "d97cf38e-2062-4645-9095-2ebac375711e",
      "metadata": {
        "id": "d97cf38e-2062-4645-9095-2ebac375711e"
      },
      "source": [
        "## Submit"
      ]
    },
    {
      "cell_type": "code",
      "execution_count": null,
      "id": "20c5e156-d7c4-400f-b552-0bb86ebfd3e3",
      "metadata": {
        "id": "20c5e156-d7c4-400f-b552-0bb86ebfd3e3"
      },
      "outputs": [],
      "source": [
        "submit = pd.read_csv('./sample_submission.csv')"
      ]
    },
    {
      "cell_type": "code",
      "source": [
        "submit['Y_Class'].iloc[t05_test_x.index[0]]"
      ],
      "metadata": {
        "id": "N8aJKLWWgp3a",
        "colab": {
          "base_uri": "https://localhost:8080/"
        },
        "outputId": "08ed0714-2979-42ef-9193-6d34b1a0f547"
      },
      "id": "N8aJKLWWgp3a",
      "execution_count": null,
      "outputs": [
        {
          "output_type": "execute_result",
          "data": {
            "text/plain": [
              "0"
            ]
          },
          "metadata": {},
          "execution_count": 224
        }
      ]
    },
    {
      "cell_type": "code",
      "execution_count": null,
      "id": "5b869ab6-6852-45a1-bc75-39dee40b583f",
      "metadata": {
        "id": "5b869ab6-6852-45a1-bc75-39dee40b583f",
        "colab": {
          "base_uri": "https://localhost:8080/"
        },
        "outputId": "2b3dbafe-004a-4a6a-da0d-531f06d621e6"
      },
      "outputs": [
        {
          "output_type": "stream",
          "name": "stderr",
          "text": [
            "/usr/local/lib/python3.8/dist-packages/pandas/core/indexing.py:1732: SettingWithCopyWarning: \n",
            "A value is trying to be set on a copy of a slice from a DataFrame\n",
            "\n",
            "See the caveats in the documentation: https://pandas.pydata.org/pandas-docs/stable/user_guide/indexing.html#returning-a-view-versus-a-copy\n",
            "  self._setitem_single_block(indexer, value, name)\n"
          ]
        }
      ],
      "source": [
        "# 각 데이터에 맞는 위치로 예측값 할당.\n",
        "for i in range(len(t04_test_x.index)):\n",
        "  submit['Y_Class'].iloc[t04_test_x.index[i]] = t04_preds[i]\n",
        "\n",
        "for i in range(len(t07_test_x.index)):\n",
        "  submit['Y_Class'].iloc[t07_test_x.index[i]] = t07_preds[i]\n",
        "\n",
        "for i in range(len(t14_test_x.index)):\n",
        "  submit['Y_Class'].iloc[t14_test_x.index[i]] = t14_preds[i]\n",
        "\n",
        "for i in range(len(t16_test_x.index)):\n",
        "  submit['Y_Class'].iloc[t16_test_x.index[i]] = t16_preds[i]\n",
        "\n",
        "for i in range(len(t06_test_x.index)):\n",
        "  submit['Y_Class'].iloc[t06_test_x.index[i]] = t06_preds[i]\n",
        "\n",
        "for i in range(len(t05_test_x.index)):\n",
        "  submit['Y_Class'].iloc[t05_test_x.index[i]] = t05_preds[i]"
      ]
    },
    {
      "cell_type": "code",
      "execution_count": null,
      "id": "026b00cd-5680-4bf2-b7f8-0bea6ae8299e",
      "metadata": {
        "tags": [],
        "id": "026b00cd-5680-4bf2-b7f8-0bea6ae8299e"
      },
      "outputs": [],
      "source": [
        "submit.to_csv('./baseline_submission.csv', index=False)"
      ]
    }
  ],
  "metadata": {
    "kernelspec": {
      "display_name": "Python 3",
      "language": "python",
      "name": "python3"
    },
    "language_info": {
      "codemirror_mode": {
        "name": "ipython",
        "version": 3
      },
      "file_extension": ".py",
      "mimetype": "text/x-python",
      "name": "python",
      "nbconvert_exporter": "python",
      "pygments_lexer": "ipython3",
      "version": "3.8.3"
    },
    "colab": {
      "provenance": [],
      "collapsed_sections": [
        "e8gPcGUGqN-_",
        "soad2IyOqe6p",
        "ne6JGrrMqjra",
        "6l9-mIAZqs2s"
      ],
      "include_colab_link": true
    },
    "gpuClass": "premium"
  },
  "nbformat": 4,
  "nbformat_minor": 5
}